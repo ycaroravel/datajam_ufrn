{
 "cells": [
  {
   "cell_type": "code",
   "execution_count": null,
   "metadata": {},
   "outputs": [],
   "source": []
  },
  {
   "cell_type": "code",
   "execution_count": 1,
   "metadata": {},
   "outputs": [],
   "source": [
    "import numpy as np\n",
    "import pandas as pd\n",
    "import matplotlib.pyplot as plt\n",
    "%matplotlib inline"
   ]
  },
  {
   "cell_type": "markdown",
   "metadata": {},
   "source": [
    "#### Distribuição das notas"
   ]
  },
  {
   "cell_type": "code",
   "execution_count": 2,
   "metadata": {},
   "outputs": [
    {
     "data": {
      "text/html": [
       "<div>\n",
       "<style scoped>\n",
       "    .dataframe tbody tr th:only-of-type {\n",
       "        vertical-align: middle;\n",
       "    }\n",
       "\n",
       "    .dataframe tbody tr th {\n",
       "        vertical-align: top;\n",
       "    }\n",
       "\n",
       "    .dataframe thead th {\n",
       "        text-align: right;\n",
       "    }\n",
       "</style>\n",
       "<table border=\"1\" class=\"dataframe\">\n",
       "  <thead>\n",
       "    <tr style=\"text-align: right;\">\n",
       "      <th></th>\n",
       "      <th>id_turma</th>\n",
       "      <th>discente</th>\n",
       "      <th>id_curso</th>\n",
       "      <th>unidade</th>\n",
       "      <th>nota</th>\n",
       "      <th>reposicao</th>\n",
       "      <th>faltas_unidade</th>\n",
       "      <th>media_final</th>\n",
       "      <th>numero_total_faltas</th>\n",
       "      <th>descricao</th>\n",
       "    </tr>\n",
       "  </thead>\n",
       "  <tbody>\n",
       "    <tr>\n",
       "      <th>0</th>\n",
       "      <td>57610457</td>\n",
       "      <td>0efbb9328136afcae8d0ecc17296e94e</td>\n",
       "      <td>6633741.0</td>\n",
       "      <td>NaN</td>\n",
       "      <td>NaN</td>\n",
       "      <td>NaN</td>\n",
       "      <td>NaN</td>\n",
       "      <td>NaN</td>\n",
       "      <td>NaN</td>\n",
       "      <td>DESISTENCIA</td>\n",
       "    </tr>\n",
       "    <tr>\n",
       "      <th>1</th>\n",
       "      <td>57610457</td>\n",
       "      <td>91fbe8c5c2f52742c2c1dc15d286a3f3</td>\n",
       "      <td>2000030.0</td>\n",
       "      <td>3.0</td>\n",
       "      <td>0.0</td>\n",
       "      <td>f</td>\n",
       "      <td>0.0</td>\n",
       "      <td>0.0</td>\n",
       "      <td>48.0</td>\n",
       "      <td>CANCELADO</td>\n",
       "    </tr>\n",
       "    <tr>\n",
       "      <th>2</th>\n",
       "      <td>57610457</td>\n",
       "      <td>91fbe8c5c2f52742c2c1dc15d286a3f3</td>\n",
       "      <td>2000030.0</td>\n",
       "      <td>2.0</td>\n",
       "      <td>0.0</td>\n",
       "      <td>f</td>\n",
       "      <td>0.0</td>\n",
       "      <td>0.0</td>\n",
       "      <td>48.0</td>\n",
       "      <td>CANCELADO</td>\n",
       "    </tr>\n",
       "    <tr>\n",
       "      <th>3</th>\n",
       "      <td>57610457</td>\n",
       "      <td>91fbe8c5c2f52742c2c1dc15d286a3f3</td>\n",
       "      <td>2000030.0</td>\n",
       "      <td>1.0</td>\n",
       "      <td>0.0</td>\n",
       "      <td>f</td>\n",
       "      <td>0.0</td>\n",
       "      <td>0.0</td>\n",
       "      <td>48.0</td>\n",
       "      <td>CANCELADO</td>\n",
       "    </tr>\n",
       "    <tr>\n",
       "      <th>4</th>\n",
       "      <td>57610457</td>\n",
       "      <td>7c64aa349e5565426721790cfd03a326</td>\n",
       "      <td>2000030.0</td>\n",
       "      <td>1.0</td>\n",
       "      <td>8.5</td>\n",
       "      <td>f</td>\n",
       "      <td>0.0</td>\n",
       "      <td>9.2</td>\n",
       "      <td>3.0</td>\n",
       "      <td>APROVADO</td>\n",
       "    </tr>\n",
       "    <tr>\n",
       "      <th>5</th>\n",
       "      <td>57610457</td>\n",
       "      <td>7c64aa349e5565426721790cfd03a326</td>\n",
       "      <td>2000030.0</td>\n",
       "      <td>3.0</td>\n",
       "      <td>9.7</td>\n",
       "      <td>f</td>\n",
       "      <td>0.0</td>\n",
       "      <td>9.2</td>\n",
       "      <td>3.0</td>\n",
       "      <td>APROVADO</td>\n",
       "    </tr>\n",
       "    <tr>\n",
       "      <th>6</th>\n",
       "      <td>57610457</td>\n",
       "      <td>7c64aa349e5565426721790cfd03a326</td>\n",
       "      <td>2000030.0</td>\n",
       "      <td>2.0</td>\n",
       "      <td>9.4</td>\n",
       "      <td>f</td>\n",
       "      <td>0.0</td>\n",
       "      <td>9.2</td>\n",
       "      <td>3.0</td>\n",
       "      <td>APROVADO</td>\n",
       "    </tr>\n",
       "    <tr>\n",
       "      <th>7</th>\n",
       "      <td>57610457</td>\n",
       "      <td>a0e2a12d4ebf86dac1e9c234905e2082</td>\n",
       "      <td>2000030.0</td>\n",
       "      <td>3.0</td>\n",
       "      <td>7.5</td>\n",
       "      <td>f</td>\n",
       "      <td>0.0</td>\n",
       "      <td>5.6</td>\n",
       "      <td>6.0</td>\n",
       "      <td>APROVADO POR NOTA</td>\n",
       "    </tr>\n",
       "    <tr>\n",
       "      <th>8</th>\n",
       "      <td>57610457</td>\n",
       "      <td>a0e2a12d4ebf86dac1e9c234905e2082</td>\n",
       "      <td>2000030.0</td>\n",
       "      <td>2.0</td>\n",
       "      <td>3.7</td>\n",
       "      <td>f</td>\n",
       "      <td>0.0</td>\n",
       "      <td>5.6</td>\n",
       "      <td>6.0</td>\n",
       "      <td>APROVADO POR NOTA</td>\n",
       "    </tr>\n",
       "    <tr>\n",
       "      <th>9</th>\n",
       "      <td>57610457</td>\n",
       "      <td>a0e2a12d4ebf86dac1e9c234905e2082</td>\n",
       "      <td>2000030.0</td>\n",
       "      <td>1.0</td>\n",
       "      <td>5.7</td>\n",
       "      <td>f</td>\n",
       "      <td>0.0</td>\n",
       "      <td>5.6</td>\n",
       "      <td>6.0</td>\n",
       "      <td>APROVADO POR NOTA</td>\n",
       "    </tr>\n",
       "  </tbody>\n",
       "</table>\n",
       "</div>"
      ],
      "text/plain": [
       "   id_turma                          discente   id_curso  unidade  nota  \\\n",
       "0  57610457  0efbb9328136afcae8d0ecc17296e94e  6633741.0      NaN   NaN   \n",
       "1  57610457  91fbe8c5c2f52742c2c1dc15d286a3f3  2000030.0      3.0   0.0   \n",
       "2  57610457  91fbe8c5c2f52742c2c1dc15d286a3f3  2000030.0      2.0   0.0   \n",
       "3  57610457  91fbe8c5c2f52742c2c1dc15d286a3f3  2000030.0      1.0   0.0   \n",
       "4  57610457  7c64aa349e5565426721790cfd03a326  2000030.0      1.0   8.5   \n",
       "5  57610457  7c64aa349e5565426721790cfd03a326  2000030.0      3.0   9.7   \n",
       "6  57610457  7c64aa349e5565426721790cfd03a326  2000030.0      2.0   9.4   \n",
       "7  57610457  a0e2a12d4ebf86dac1e9c234905e2082  2000030.0      3.0   7.5   \n",
       "8  57610457  a0e2a12d4ebf86dac1e9c234905e2082  2000030.0      2.0   3.7   \n",
       "9  57610457  a0e2a12d4ebf86dac1e9c234905e2082  2000030.0      1.0   5.7   \n",
       "\n",
       "  reposicao  faltas_unidade  media_final  numero_total_faltas  \\\n",
       "0       NaN             NaN          NaN                  NaN   \n",
       "1         f             0.0          0.0                 48.0   \n",
       "2         f             0.0          0.0                 48.0   \n",
       "3         f             0.0          0.0                 48.0   \n",
       "4         f             0.0          9.2                  3.0   \n",
       "5         f             0.0          9.2                  3.0   \n",
       "6         f             0.0          9.2                  3.0   \n",
       "7         f             0.0          5.6                  6.0   \n",
       "8         f             0.0          5.6                  6.0   \n",
       "9         f             0.0          5.6                  6.0   \n",
       "\n",
       "           descricao  \n",
       "0        DESISTENCIA  \n",
       "1          CANCELADO  \n",
       "2          CANCELADO  \n",
       "3          CANCELADO  \n",
       "4           APROVADO  \n",
       "5           APROVADO  \n",
       "6           APROVADO  \n",
       "7  APROVADO POR NOTA  \n",
       "8  APROVADO POR NOTA  \n",
       "9  APROVADO POR NOTA  "
      ]
     },
     "execution_count": 2,
     "metadata": {},
     "output_type": "execute_result"
    }
   ],
   "source": [
    "#importar banco de dados de matriculas em 2017.2\n",
    "#http://dados.ufrn.br/dataset/matriculas-componentes\n",
    "#cada linha apresenta o registro da nota de um discente em uma unidade de um componente curricular\n",
    "matriculas = pd.read_csv('data/matricula-componente-20172', delimiter=';')\n",
    "matriculas.head(10)"
   ]
  },
  {
   "cell_type": "code",
   "execution_count": 3,
   "metadata": {},
   "outputs": [],
   "source": [
    "#agrupar matriculas por turma e discente e resgatar a media final de cada aluno\n",
    "medias_aluno = matriculas.groupby(['id_turma', 'discente']).first()['media_final']"
   ]
  },
  {
   "cell_type": "code",
   "execution_count": 4,
   "metadata": {},
   "outputs": [
    {
     "data": {
      "text/plain": [
       "<matplotlib.axes._subplots.AxesSubplot at 0x7f896152d6a0>"
      ]
     },
     "execution_count": 4,
     "metadata": {},
     "output_type": "execute_result"
    },
    {
     "data": {
      "image/png": "[encoded data removed]",
      "text/plain": [
       "<matplotlib.figure.Figure at 0x7f8961c80c88>"
      ]
     },
     "metadata": {},
     "output_type": "display_data"
    }
   ],
   "source": [
    "medias_aluno.plot(kind='hist', bins=50, title='Distribuição de notas em turmas - 2017.2')"
   ]
  },
  {
   "cell_type": "code",
   "execution_count": 5,
   "metadata": {},
   "outputs": [
    {
     "data": {
      "text/plain": [
       "<matplotlib.axes._subplots.AxesSubplot at 0x7f898437c6a0>"
      ]
     },
     "execution_count": 5,
     "metadata": {},
     "output_type": "execute_result"
    },
    {
     "data": {
      "image/png": "[encoded data removed]",
      "text/plain": [
       "<matplotlib.figure.Figure at 0x7f895e592ef0>"
      ]
     },
     "metadata": {},
     "output_type": "display_data"
    }
   ],
   "source": [
    "medias_aluno.plot(kind='box', title='Distribuição de notas em turmas - 2017.2')"
   ]
  },
  {
   "cell_type": "markdown",
   "metadata": {},
   "source": [
    "#### Médias por cursos de graduação"
   ]
  },
  {
   "cell_type": "code",
   "execution_count": 6,
   "metadata": {},
   "outputs": [
    {
     "data": {
      "text/html": [
       "<div>\n",
       "<style scoped>\n",
       "    .dataframe tbody tr th:only-of-type {\n",
       "        vertical-align: middle;\n",
       "    }\n",
       "\n",
       "    .dataframe tbody tr th {\n",
       "        vertical-align: top;\n",
       "    }\n",
       "\n",
       "    .dataframe thead th {\n",
       "        text-align: right;\n",
       "    }\n",
       "</style>\n",
       "<table border=\"1\" class=\"dataframe\">\n",
       "  <thead>\n",
       "    <tr style=\"text-align: right;\">\n",
       "      <th></th>\n",
       "      <th>id_curso</th>\n",
       "      <th>nome</th>\n",
       "      <th>id_coordenador</th>\n",
       "      <th>coordenador</th>\n",
       "      <th>situacao_curso</th>\n",
       "      <th>nivel_ensino</th>\n",
       "      <th>grau_academico</th>\n",
       "      <th>modalidade_educacao</th>\n",
       "      <th>area_conhecimento</th>\n",
       "      <th>tipo_oferta</th>\n",
       "      <th>...</th>\n",
       "      <th>municipio</th>\n",
       "      <th>campus</th>\n",
       "      <th>id_unidade_responsavel</th>\n",
       "      <th>unidade_responsavel</th>\n",
       "      <th>website</th>\n",
       "      <th>data_funcionamento</th>\n",
       "      <th>codigo_inep</th>\n",
       "      <th>dou</th>\n",
       "      <th>portaria_reconhecimento</th>\n",
       "      <th>convenio_academico</th>\n",
       "    </tr>\n",
       "  </thead>\n",
       "  <tbody>\n",
       "    <tr>\n",
       "      <th>0</th>\n",
       "      <td>2000002</td>\n",
       "      <td>ADMINISTRAÇÃO</td>\n",
       "      <td>NaN</td>\n",
       "      <td>NaN</td>\n",
       "      <td>ATIVO</td>\n",
       "      <td>GRADUAÇÃO</td>\n",
       "      <td>BACHARELADO</td>\n",
       "      <td>Presencial</td>\n",
       "      <td>Ciências Sociais Aplicadas</td>\n",
       "      <td>Regular</td>\n",
       "      <td>...</td>\n",
       "      <td>NATAL</td>\n",
       "      <td>Campus Central</td>\n",
       "      <td>443</td>\n",
       "      <td>CENTRO DE CIÊNCIAS SOCIAIS APLICADAS</td>\n",
       "      <td>http://sol.ccsa.ufrn.br/ccsa/areas/adm/adminis...</td>\n",
       "      <td>1971-09-16</td>\n",
       "      <td>12311.0</td>\n",
       "      <td>2017-04-04</td>\n",
       "      <td>Portaria nº 272/2017 - MEC</td>\n",
       "      <td>NaN</td>\n",
       "    </tr>\n",
       "    <tr>\n",
       "      <th>1</th>\n",
       "      <td>2000004</td>\n",
       "      <td>ADMINISTRAÇÃO</td>\n",
       "      <td>24415.0</td>\n",
       "      <td>ANDREA CRISTINA SANTOS DE JESUS</td>\n",
       "      <td>ATIVO</td>\n",
       "      <td>GRADUAÇÃO</td>\n",
       "      <td>BACHARELADO</td>\n",
       "      <td>Presencial</td>\n",
       "      <td>Ciências Sociais Aplicadas</td>\n",
       "      <td>Regular</td>\n",
       "      <td>...</td>\n",
       "      <td>CURRAIS NOVOS</td>\n",
       "      <td>Campus Currais Novos</td>\n",
       "      <td>1482</td>\n",
       "      <td>CENTRO DE  ENSINO SUPERIOR DO SERIDÓ</td>\n",
       "      <td>NaN</td>\n",
       "      <td>1978-09-15</td>\n",
       "      <td>12355.0</td>\n",
       "      <td>2017-04-04</td>\n",
       "      <td>Portaria nº 272/2017 - MEC</td>\n",
       "      <td>NaN</td>\n",
       "    </tr>\n",
       "    <tr>\n",
       "      <th>2</th>\n",
       "      <td>15315770</td>\n",
       "      <td>ADMINISTRAÇÃO PÚBLICA</td>\n",
       "      <td>23122.0</td>\n",
       "      <td>MATILDE MEDEIROS DE ARAÚJO</td>\n",
       "      <td>ATIVO</td>\n",
       "      <td>GRADUAÇÃO</td>\n",
       "      <td>BACHARELADO</td>\n",
       "      <td>A Distância</td>\n",
       "      <td>Ciências Sociais Aplicadas</td>\n",
       "      <td>Regular</td>\n",
       "      <td>...</td>\n",
       "      <td>NATAL</td>\n",
       "      <td>NaN</td>\n",
       "      <td>443</td>\n",
       "      <td>CENTRO DE CIÊNCIAS SOCIAIS APLICADAS</td>\n",
       "      <td>NaN</td>\n",
       "      <td>NaN</td>\n",
       "      <td>1151028.0</td>\n",
       "      <td>2014-04-11</td>\n",
       "      <td>Portaria nº 226/2014 - DIREG/MEC</td>\n",
       "      <td>NaN</td>\n",
       "    </tr>\n",
       "    <tr>\n",
       "      <th>3</th>\n",
       "      <td>2576632</td>\n",
       "      <td>AGRONOMIA</td>\n",
       "      <td>5758350.0</td>\n",
       "      <td>JOSE HAMILTON DA COSTA FILHO</td>\n",
       "      <td>ATIVO</td>\n",
       "      <td>GRADUAÇÃO</td>\n",
       "      <td>BACHARELADO</td>\n",
       "      <td>Presencial</td>\n",
       "      <td>Ciências Agrárias</td>\n",
       "      <td>Regular</td>\n",
       "      <td>...</td>\n",
       "      <td>MACAÍBA</td>\n",
       "      <td>NaN</td>\n",
       "      <td>351</td>\n",
       "      <td>ESCOLA AGRÍCOLA DE JUNDIAÍ</td>\n",
       "      <td>NaN</td>\n",
       "      <td>NaN</td>\n",
       "      <td>1127694.0</td>\n",
       "      <td>2017-07-28</td>\n",
       "      <td>Portaria Nº 797/2017 - MEC</td>\n",
       "      <td>NaN</td>\n",
       "    </tr>\n",
       "    <tr>\n",
       "      <th>4</th>\n",
       "      <td>94598200</td>\n",
       "      <td>ANÁLISE E DESENVOLVIMENTO DE SISTEMAS</td>\n",
       "      <td>5757908.0</td>\n",
       "      <td>TANIRO CHACON RODRIGUES</td>\n",
       "      <td>ATIVO</td>\n",
       "      <td>GRADUAÇÃO</td>\n",
       "      <td>TECNOLÓGICO</td>\n",
       "      <td>Presencial</td>\n",
       "      <td>Outra</td>\n",
       "      <td>Anual</td>\n",
       "      <td>...</td>\n",
       "      <td>MACAÍBA</td>\n",
       "      <td>NaN</td>\n",
       "      <td>351</td>\n",
       "      <td>ESCOLA AGRÍCOLA DE JUNDIAÍ</td>\n",
       "      <td>NaN</td>\n",
       "      <td>NaN</td>\n",
       "      <td>1188193.0</td>\n",
       "      <td>2015-12-24</td>\n",
       "      <td>Portaria nº 1034/2015 - DIREG/MEC</td>\n",
       "      <td>NaN</td>\n",
       "    </tr>\n",
       "  </tbody>\n",
       "</table>\n",
       "<p>5 rows × 22 columns</p>\n",
       "</div>"
      ],
      "text/plain": [
       "   id_curso                                   nome  id_coordenador  \\\n",
       "0   2000002                          ADMINISTRAÇÃO             NaN   \n",
       "1   2000004                          ADMINISTRAÇÃO         24415.0   \n",
       "2  15315770                  ADMINISTRAÇÃO PÚBLICA         23122.0   \n",
       "3   2576632                              AGRONOMIA       5758350.0   \n",
       "4  94598200  ANÁLISE E DESENVOLVIMENTO DE SISTEMAS       5757908.0   \n",
       "\n",
       "                       coordenador situacao_curso nivel_ensino grau_academico  \\\n",
       "0                              NaN          ATIVO    GRADUAÇÃO    BACHARELADO   \n",
       "1  ANDREA CRISTINA SANTOS DE JESUS          ATIVO    GRADUAÇÃO    BACHARELADO   \n",
       "2       MATILDE MEDEIROS DE ARAÚJO          ATIVO    GRADUAÇÃO    BACHARELADO   \n",
       "3     JOSE HAMILTON DA COSTA FILHO          ATIVO    GRADUAÇÃO    BACHARELADO   \n",
       "4          TANIRO CHACON RODRIGUES          ATIVO    GRADUAÇÃO    TECNOLÓGICO   \n",
       "\n",
       "  modalidade_educacao           area_conhecimento tipo_oferta  \\\n",
       "0          Presencial  Ciências Sociais Aplicadas     Regular   \n",
       "1          Presencial  Ciências Sociais Aplicadas     Regular   \n",
       "2         A Distância  Ciências Sociais Aplicadas     Regular   \n",
       "3          Presencial           Ciências Agrárias     Regular   \n",
       "4          Presencial                       Outra       Anual   \n",
       "\n",
       "         ...              municipio                campus  \\\n",
       "0        ...                  NATAL        Campus Central   \n",
       "1        ...          CURRAIS NOVOS  Campus Currais Novos   \n",
       "2        ...                  NATAL                   NaN   \n",
       "3        ...                MACAÍBA                   NaN   \n",
       "4        ...                MACAÍBA                   NaN   \n",
       "\n",
       "  id_unidade_responsavel                   unidade_responsavel  \\\n",
       "0                    443  CENTRO DE CIÊNCIAS SOCIAIS APLICADAS   \n",
       "1                   1482  CENTRO DE  ENSINO SUPERIOR DO SERIDÓ   \n",
       "2                    443  CENTRO DE CIÊNCIAS SOCIAIS APLICADAS   \n",
       "3                    351            ESCOLA AGRÍCOLA DE JUNDIAÍ   \n",
       "4                    351            ESCOLA AGRÍCOLA DE JUNDIAÍ   \n",
       "\n",
       "                                             website data_funcionamento  \\\n",
       "0  http://sol.ccsa.ufrn.br/ccsa/areas/adm/adminis...         1971-09-16   \n",
       "1                                                NaN         1978-09-15   \n",
       "2                                                NaN                NaN   \n",
       "3                                                NaN                NaN   \n",
       "4                                                NaN                NaN   \n",
       "\n",
       "  codigo_inep         dou            portaria_reconhecimento  \\\n",
       "0     12311.0  2017-04-04         Portaria nº 272/2017 - MEC   \n",
       "1     12355.0  2017-04-04         Portaria nº 272/2017 - MEC   \n",
       "2   1151028.0  2014-04-11   Portaria nº 226/2014 - DIREG/MEC   \n",
       "3   1127694.0  2017-07-28         Portaria Nº 797/2017 - MEC   \n",
       "4   1188193.0  2015-12-24  Portaria nº 1034/2015 - DIREG/MEC   \n",
       "\n",
       "  convenio_academico  \n",
       "0                NaN  \n",
       "1                NaN  \n",
       "2                NaN  \n",
       "3                NaN  \n",
       "4                NaN  \n",
       "\n",
       "[5 rows x 22 columns]"
      ]
     },
     "execution_count": 6,
     "metadata": {},
     "output_type": "execute_result"
    }
   ],
   "source": [
    "#importar informações sobre os cursos de graduação da UFRN\n",
    "#http://dados.ufrn.br/dataset/cursos-de-graduacao\n",
    "cursos = pd.read_csv('data/cursos-graduacao', delimiter=';')\n",
    "cursos.head()"
   ]
  },
  {
   "cell_type": "code",
   "execution_count": 15,
   "metadata": {},
   "outputs": [],
   "source": [
    "#separar matriculas referentes a cursos de graduação\n",
    "matriculas = matriculas[matriculas.id_curso.isin(cursos.id_curso)]"
   ]
  },
  {
   "cell_type": "code",
   "execution_count": 16,
   "metadata": {},
   "outputs": [],
   "source": [
    "#agrupar matricular por turma e discente e, posteriormente, por curso\n",
    "medias = matriculas.groupby(['id_turma', 'discente']).first().groupby('id_curso').mean()['media_final'].to_frame().reset_index()"
   ]
  },
  {
   "cell_type": "code",
   "execution_count": 17,
   "metadata": {},
   "outputs": [],
   "source": [
    "#resgatar o nome do curso a partir do id\n",
    "medias['nome_curso'] = medias_curso.id_curso.apply(lambda x: cursos.loc[cursos.id_curso==x, 'nome'].values[0])"
   ]
  },
  {
   "cell_type": "code",
   "execution_count": 18,
   "metadata": {},
   "outputs": [
    {
     "name": "stdout",
     "output_type": "stream",
     "text": [
      "Cursos com menores médias entre alunos: \n"
     ]
    },
    {
     "data": {
      "text/html": [
       "<div>\n",
       "<style scoped>\n",
       "    .dataframe tbody tr th:only-of-type {\n",
       "        vertical-align: middle;\n",
       "    }\n",
       "\n",
       "    .dataframe tbody tr th {\n",
       "        vertical-align: top;\n",
       "    }\n",
       "\n",
       "    .dataframe thead th {\n",
       "        text-align: right;\n",
       "    }\n",
       "</style>\n",
       "<table border=\"1\" class=\"dataframe\">\n",
       "  <thead>\n",
       "    <tr style=\"text-align: right;\">\n",
       "      <th></th>\n",
       "      <th>id_curso</th>\n",
       "      <th>media_final</th>\n",
       "      <th>nome_curso</th>\n",
       "    </tr>\n",
       "  </thead>\n",
       "  <tbody>\n",
       "    <tr>\n",
       "      <th>51</th>\n",
       "      <td>2000144.0</td>\n",
       "      <td>4.690051</td>\n",
       "      <td>QUÍMICA</td>\n",
       "    </tr>\n",
       "    <tr>\n",
       "      <th>71</th>\n",
       "      <td>10320810.0</td>\n",
       "      <td>4.795246</td>\n",
       "      <td>CIÊNCIAS E TECNOLOGIA</td>\n",
       "    </tr>\n",
       "    <tr>\n",
       "      <th>33</th>\n",
       "      <td>2000054.0</td>\n",
       "      <td>4.796296</td>\n",
       "      <td>MATEMÁTICA</td>\n",
       "    </tr>\n",
       "    <tr>\n",
       "      <th>49</th>\n",
       "      <td>2000124.0</td>\n",
       "      <td>4.956987</td>\n",
       "      <td>FÍSICA</td>\n",
       "    </tr>\n",
       "    <tr>\n",
       "      <th>60</th>\n",
       "      <td>3156200.0</td>\n",
       "      <td>4.980397</td>\n",
       "      <td>QUÍMICA DO PETRÓLEO</td>\n",
       "    </tr>\n",
       "  </tbody>\n",
       "</table>\n",
       "</div>"
      ],
      "text/plain": [
       "      id_curso  media_final             nome_curso\n",
       "51   2000144.0     4.690051                QUÍMICA\n",
       "71  10320810.0     4.795246  CIÊNCIAS E TECNOLOGIA\n",
       "33   2000054.0     4.796296             MATEMÁTICA\n",
       "49   2000124.0     4.956987                 FÍSICA\n",
       "60   3156200.0     4.980397    QUÍMICA DO PETRÓLEO"
      ]
     },
     "execution_count": 18,
     "metadata": {},
     "output_type": "execute_result"
    }
   ],
   "source": [
    "print(\"Cursos com menores médias entre alunos: \")\n",
    "medias.sort_values('media_final').head()"
   ]
  },
  {
   "cell_type": "code",
   "execution_count": 19,
   "metadata": {},
   "outputs": [
    {
     "name": "stdout",
     "output_type": "stream",
     "text": [
      "Cursos com maiores médias entre alunos: \n"
     ]
    },
    {
     "data": {
      "text/html": [
       "<div>\n",
       "<style scoped>\n",
       "    .dataframe tbody tr th:only-of-type {\n",
       "        vertical-align: middle;\n",
       "    }\n",
       "\n",
       "    .dataframe tbody tr th {\n",
       "        vertical-align: top;\n",
       "    }\n",
       "\n",
       "    .dataframe thead th {\n",
       "        text-align: right;\n",
       "    }\n",
       "</style>\n",
       "<table border=\"1\" class=\"dataframe\">\n",
       "  <thead>\n",
       "    <tr style=\"text-align: right;\">\n",
       "      <th></th>\n",
       "      <th>id_curso</th>\n",
       "      <th>media_final</th>\n",
       "      <th>nome_curso</th>\n",
       "    </tr>\n",
       "  </thead>\n",
       "  <tbody>\n",
       "    <tr>\n",
       "      <th>93</th>\n",
       "      <td>104831949.0</td>\n",
       "      <td>8.512388</td>\n",
       "      <td>MEDICINA</td>\n",
       "    </tr>\n",
       "    <tr>\n",
       "      <th>92</th>\n",
       "      <td>102191189.0</td>\n",
       "      <td>8.579004</td>\n",
       "      <td>LICENCIATURA EM CIÊNCIAS SOCIAIS</td>\n",
       "    </tr>\n",
       "    <tr>\n",
       "      <th>12</th>\n",
       "      <td>2000019.0</td>\n",
       "      <td>8.787424</td>\n",
       "      <td>DIREITO</td>\n",
       "    </tr>\n",
       "    <tr>\n",
       "      <th>85</th>\n",
       "      <td>85436676.0</td>\n",
       "      <td>9.040952</td>\n",
       "      <td>EDUCAÇÃO FÍSICA</td>\n",
       "    </tr>\n",
       "    <tr>\n",
       "      <th>41</th>\n",
       "      <td>2000066.0</td>\n",
       "      <td>9.133514</td>\n",
       "      <td>PSICOLOGIA</td>\n",
       "    </tr>\n",
       "  </tbody>\n",
       "</table>\n",
       "</div>"
      ],
      "text/plain": [
       "       id_curso  media_final                        nome_curso\n",
       "93  104831949.0     8.512388                          MEDICINA\n",
       "92  102191189.0     8.579004  LICENCIATURA EM CIÊNCIAS SOCIAIS\n",
       "12    2000019.0     8.787424                           DIREITO\n",
       "85   85436676.0     9.040952                   EDUCAÇÃO FÍSICA\n",
       "41    2000066.0     9.133514                        PSICOLOGIA"
      ]
     },
     "execution_count": 19,
     "metadata": {},
     "output_type": "execute_result"
    }
   ],
   "source": [
    "print(\"Cursos com maiores médias entre alunos: \")\n",
    "medias.sort_values('media_final').tail()"
   ]
  },
  {
   "cell_type": "code",
   "execution_count": 21,
   "metadata": {},
   "outputs": [
    {
     "data": {
      "text/plain": [
       "<matplotlib.axes._subplots.AxesSubplot at 0x7f895e258518>"
      ]
     },
     "execution_count": 21,
     "metadata": {},
     "output_type": "execute_result"
    },
    {
     "data": {
      "image/png": "[encoded data removed]",
      "text/plain": [
       "<matplotlib.figure.Figure at 0x7f895e24dcc0>"
      ]
     },
     "metadata": {},
     "output_type": "display_data"
    }
   ],
   "source": [
    "medias.media_final.plot(kind='box', title='Distribuição das médias finais por cursos em 2017.2')"
   ]
  },
  {
   "cell_type": "markdown",
   "metadata": {},
   "source": [
    "#### Taxas de aprovação, reprovação e trancamentos/cancelamentos por curso"
   ]
  },
  {
   "cell_type": "code",
   "execution_count": 22,
   "metadata": {},
   "outputs": [
    {
     "data": {
      "text/plain": [
       "array(['DESISTENCIA', 'CANCELADO', 'APROVADO', 'APROVADO POR NOTA',\n",
       "       'REPROVADO POR MÉDIA E POR FALTAS', 'REPROVADO', 'TRANCADO',\n",
       "       'INDEFERIDO', 'REPROVADO POR NOTA', 'EXCLUIDA',\n",
       "       'REPROVADO POR NOTA E FALTA', 'REPROVADO POR FALTAS'], dtype=object)"
      ]
     },
     "execution_count": 22,
     "metadata": {},
     "output_type": "execute_result"
    }
   ],
   "source": [
    "#verificar os status das matrículas\n",
    "matriculas.descricao.unique()"
   ]
  },
  {
   "cell_type": "code",
   "execution_count": 23,
   "metadata": {},
   "outputs": [],
   "source": [
    "#selecionar matriculas em cursos de graduação e excluir registros com status\n",
    "#'DESISTENCIA', 'INDEFERIDO', 'DISPENSADO', 'EM ESPERA', 'CUMPRIU', 'AGUARDANDO DEFERIMENTO'\n",
    "matriculas = matriculas[matriculas.id_curso.isin(cursos.id_curso) & \n",
    "                        matriculas.descricao.isin(['CANCELADO', 'APROVADO', 'APROVADO POR NOTA',\n",
    "                                                   'REPROVADO POR MÉDIA E POR FALTAS', 'REPROVADO', 'TRANCADO',\n",
    "                                                   'REPROVADO POR NOTA', 'REPROVADO POR NOTA E FALTA', \n",
    "                                                   'REPROVADO POR FALTAS'])\n",
    "                       ]\n",
    "\n",
    "#uniformizar o status\n",
    "matriculas.loc[matriculas.descricao.isin(['APROVADO', 'APROVADO POR NOTA']), 'descricao'] = 'APROVADO'\n",
    "matriculas.loc[matriculas.descricao.isin(['REPROVADO POR MÉDIA E POR FALTAS', 'REPROVADO', 'REPROVADO POR NOTA', 'REPROVADO POR NOTA E FALTA', 'REPROVADO POR FALTAS']), 'descricao'] = 'REPROVADO'\n",
    "matriculas.loc[matriculas.descricao.isin(['TRANCADO', 'CANCELADO']), 'descricao'] = 'TRANCADO/CANCELADO'\n",
    "\n",
    "#adicionar coluna booleana para indicar cada status (aprovado/reprovado/trancado ou cancelado)\n",
    "matriculas = pd.concat([matriculas, pd.get_dummies(matriculas.descricao)], axis=1)"
   ]
  },
  {
   "cell_type": "code",
   "execution_count": 24,
   "metadata": {},
   "outputs": [
    {
     "data": {
      "text/html": [
       "<div>\n",
       "<style scoped>\n",
       "    .dataframe tbody tr th:only-of-type {\n",
       "        vertical-align: middle;\n",
       "    }\n",
       "\n",
       "    .dataframe tbody tr th {\n",
       "        vertical-align: top;\n",
       "    }\n",
       "\n",
       "    .dataframe thead th {\n",
       "        text-align: right;\n",
       "    }\n",
       "</style>\n",
       "<table border=\"1\" class=\"dataframe\">\n",
       "  <thead>\n",
       "    <tr style=\"text-align: right;\">\n",
       "      <th></th>\n",
       "      <th>id_turma</th>\n",
       "      <th>discente</th>\n",
       "      <th>id_curso</th>\n",
       "      <th>unidade</th>\n",
       "      <th>nota</th>\n",
       "      <th>reposicao</th>\n",
       "      <th>faltas_unidade</th>\n",
       "      <th>media_final</th>\n",
       "      <th>numero_total_faltas</th>\n",
       "      <th>descricao</th>\n",
       "      <th>APROVADO</th>\n",
       "      <th>REPROVADO</th>\n",
       "      <th>TRANCADO/CANCELADO</th>\n",
       "    </tr>\n",
       "  </thead>\n",
       "  <tbody>\n",
       "    <tr>\n",
       "      <th>1</th>\n",
       "      <td>57610457</td>\n",
       "      <td>91fbe8c5c2f52742c2c1dc15d286a3f3</td>\n",
       "      <td>2000030.0</td>\n",
       "      <td>3.0</td>\n",
       "      <td>0.0</td>\n",
       "      <td>f</td>\n",
       "      <td>0.0</td>\n",
       "      <td>0.0</td>\n",
       "      <td>48.0</td>\n",
       "      <td>TRANCADO/CANCELADO</td>\n",
       "      <td>0</td>\n",
       "      <td>0</td>\n",
       "      <td>1</td>\n",
       "    </tr>\n",
       "    <tr>\n",
       "      <th>2</th>\n",
       "      <td>57610457</td>\n",
       "      <td>91fbe8c5c2f52742c2c1dc15d286a3f3</td>\n",
       "      <td>2000030.0</td>\n",
       "      <td>2.0</td>\n",
       "      <td>0.0</td>\n",
       "      <td>f</td>\n",
       "      <td>0.0</td>\n",
       "      <td>0.0</td>\n",
       "      <td>48.0</td>\n",
       "      <td>TRANCADO/CANCELADO</td>\n",
       "      <td>0</td>\n",
       "      <td>0</td>\n",
       "      <td>1</td>\n",
       "    </tr>\n",
       "    <tr>\n",
       "      <th>3</th>\n",
       "      <td>57610457</td>\n",
       "      <td>91fbe8c5c2f52742c2c1dc15d286a3f3</td>\n",
       "      <td>2000030.0</td>\n",
       "      <td>1.0</td>\n",
       "      <td>0.0</td>\n",
       "      <td>f</td>\n",
       "      <td>0.0</td>\n",
       "      <td>0.0</td>\n",
       "      <td>48.0</td>\n",
       "      <td>TRANCADO/CANCELADO</td>\n",
       "      <td>0</td>\n",
       "      <td>0</td>\n",
       "      <td>1</td>\n",
       "    </tr>\n",
       "    <tr>\n",
       "      <th>4</th>\n",
       "      <td>57610457</td>\n",
       "      <td>7c64aa349e5565426721790cfd03a326</td>\n",
       "      <td>2000030.0</td>\n",
       "      <td>1.0</td>\n",
       "      <td>8.5</td>\n",
       "      <td>f</td>\n",
       "      <td>0.0</td>\n",
       "      <td>9.2</td>\n",
       "      <td>3.0</td>\n",
       "      <td>APROVADO</td>\n",
       "      <td>1</td>\n",
       "      <td>0</td>\n",
       "      <td>0</td>\n",
       "    </tr>\n",
       "    <tr>\n",
       "      <th>5</th>\n",
       "      <td>57610457</td>\n",
       "      <td>7c64aa349e5565426721790cfd03a326</td>\n",
       "      <td>2000030.0</td>\n",
       "      <td>3.0</td>\n",
       "      <td>9.7</td>\n",
       "      <td>f</td>\n",
       "      <td>0.0</td>\n",
       "      <td>9.2</td>\n",
       "      <td>3.0</td>\n",
       "      <td>APROVADO</td>\n",
       "      <td>1</td>\n",
       "      <td>0</td>\n",
       "      <td>0</td>\n",
       "    </tr>\n",
       "  </tbody>\n",
       "</table>\n",
       "</div>"
      ],
      "text/plain": [
       "   id_turma                          discente   id_curso  unidade  nota  \\\n",
       "1  57610457  91fbe8c5c2f52742c2c1dc15d286a3f3  2000030.0      3.0   0.0   \n",
       "2  57610457  91fbe8c5c2f52742c2c1dc15d286a3f3  2000030.0      2.0   0.0   \n",
       "3  57610457  91fbe8c5c2f52742c2c1dc15d286a3f3  2000030.0      1.0   0.0   \n",
       "4  57610457  7c64aa349e5565426721790cfd03a326  2000030.0      1.0   8.5   \n",
       "5  57610457  7c64aa349e5565426721790cfd03a326  2000030.0      3.0   9.7   \n",
       "\n",
       "  reposicao  faltas_unidade  media_final  numero_total_faltas  \\\n",
       "1         f             0.0          0.0                 48.0   \n",
       "2         f             0.0          0.0                 48.0   \n",
       "3         f             0.0          0.0                 48.0   \n",
       "4         f             0.0          9.2                  3.0   \n",
       "5         f             0.0          9.2                  3.0   \n",
       "\n",
       "            descricao  APROVADO  REPROVADO  TRANCADO/CANCELADO  \n",
       "1  TRANCADO/CANCELADO         0          0                   1  \n",
       "2  TRANCADO/CANCELADO         0          0                   1  \n",
       "3  TRANCADO/CANCELADO         0          0                   1  \n",
       "4            APROVADO         1          0                   0  \n",
       "5            APROVADO         1          0                   0  "
      ]
     },
     "execution_count": 24,
     "metadata": {},
     "output_type": "execute_result"
    }
   ],
   "source": [
    "matriculas.head()"
   ]
  },
  {
   "cell_type": "code",
   "execution_count": 25,
   "metadata": {},
   "outputs": [],
   "source": [
    "#agrupar por turma e discente, para resgatar o registro da primeira unidade (é suficiente)\n",
    "#depois, agrupar por curso para verificar o indice para cada status, utilizando a media das colunas que indicam os status\n",
    "taxas_curso = matriculas.groupby(['id_turma', 'discente']).first().groupby('id_curso').mean()[['APROVADO','REPROVADO','TRANCADO/CANCELADO']].reset_index()\n",
    "\n",
    "#resgatar o nome do curso a partir do id\n",
    "taxas_curso['nome_curso'] = taxas_curso.id_curso.apply(lambda x: cursos.loc[cursos.id_curso==x, 'nome'].values[0])"
   ]
  },
  {
   "cell_type": "code",
   "execution_count": 26,
   "metadata": {},
   "outputs": [
    {
     "name": "stdout",
     "output_type": "stream",
     "text": [
      "Cursos com maiores índices de aprovação: \n"
     ]
    },
    {
     "data": {
      "text/html": [
       "<div>\n",
       "<style scoped>\n",
       "    .dataframe tbody tr th:only-of-type {\n",
       "        vertical-align: middle;\n",
       "    }\n",
       "\n",
       "    .dataframe tbody tr th {\n",
       "        vertical-align: top;\n",
       "    }\n",
       "\n",
       "    .dataframe thead th {\n",
       "        text-align: right;\n",
       "    }\n",
       "</style>\n",
       "<table border=\"1\" class=\"dataframe\">\n",
       "  <thead>\n",
       "    <tr style=\"text-align: right;\">\n",
       "      <th></th>\n",
       "      <th>id_curso</th>\n",
       "      <th>APROVADO</th>\n",
       "      <th>REPROVADO</th>\n",
       "      <th>TRANCADO/CANCELADO</th>\n",
       "      <th>nome_curso</th>\n",
       "    </tr>\n",
       "  </thead>\n",
       "  <tbody>\n",
       "    <tr>\n",
       "      <th>85</th>\n",
       "      <td>85436676.0</td>\n",
       "      <td>1.000000</td>\n",
       "      <td>0.000000</td>\n",
       "      <td>0.000000</td>\n",
       "      <td>EDUCAÇÃO FÍSICA</td>\n",
       "    </tr>\n",
       "    <tr>\n",
       "      <th>84</th>\n",
       "      <td>85436489.0</td>\n",
       "      <td>1.000000</td>\n",
       "      <td>0.000000</td>\n",
       "      <td>0.000000</td>\n",
       "      <td>MATEMÁTICA</td>\n",
       "    </tr>\n",
       "    <tr>\n",
       "      <th>92</th>\n",
       "      <td>102191189.0</td>\n",
       "      <td>0.992933</td>\n",
       "      <td>0.000000</td>\n",
       "      <td>0.007067</td>\n",
       "      <td>LICENCIATURA EM CIÊNCIAS SOCIAIS</td>\n",
       "    </tr>\n",
       "    <tr>\n",
       "      <th>35</th>\n",
       "      <td>2000056.0</td>\n",
       "      <td>0.981635</td>\n",
       "      <td>0.003027</td>\n",
       "      <td>0.015338</td>\n",
       "      <td>MEDICINA</td>\n",
       "    </tr>\n",
       "    <tr>\n",
       "      <th>93</th>\n",
       "      <td>104831949.0</td>\n",
       "      <td>0.970662</td>\n",
       "      <td>0.005618</td>\n",
       "      <td>0.023720</td>\n",
       "      <td>MEDICINA</td>\n",
       "    </tr>\n",
       "  </tbody>\n",
       "</table>\n",
       "</div>"
      ],
      "text/plain": [
       "       id_curso  APROVADO  REPROVADO  TRANCADO/CANCELADO  \\\n",
       "85   85436676.0  1.000000   0.000000            0.000000   \n",
       "84   85436489.0  1.000000   0.000000            0.000000   \n",
       "92  102191189.0  0.992933   0.000000            0.007067   \n",
       "35    2000056.0  0.981635   0.003027            0.015338   \n",
       "93  104831949.0  0.970662   0.005618            0.023720   \n",
       "\n",
       "                          nome_curso  \n",
       "85                   EDUCAÇÃO FÍSICA  \n",
       "84                        MATEMÁTICA  \n",
       "92  LICENCIATURA EM CIÊNCIAS SOCIAIS  \n",
       "35                          MEDICINA  \n",
       "93                          MEDICINA  "
      ]
     },
     "execution_count": 26,
     "metadata": {},
     "output_type": "execute_result"
    }
   ],
   "source": [
    "print(\"Cursos com maiores índices de aprovação: \")\n",
    "taxas_curso.sort_values('APROVADO', ascending=False).head()"
   ]
  },
  {
   "cell_type": "code",
   "execution_count": 27,
   "metadata": {},
   "outputs": [
    {
     "name": "stdout",
     "output_type": "stream",
     "text": [
      "Cursos com maiores índices de reprovação: \n"
     ]
    },
    {
     "data": {
      "text/html": [
       "<div>\n",
       "<style scoped>\n",
       "    .dataframe tbody tr th:only-of-type {\n",
       "        vertical-align: middle;\n",
       "    }\n",
       "\n",
       "    .dataframe tbody tr th {\n",
       "        vertical-align: top;\n",
       "    }\n",
       "\n",
       "    .dataframe thead th {\n",
       "        text-align: right;\n",
       "    }\n",
       "</style>\n",
       "<table border=\"1\" class=\"dataframe\">\n",
       "  <thead>\n",
       "    <tr style=\"text-align: right;\">\n",
       "      <th></th>\n",
       "      <th>id_curso</th>\n",
       "      <th>APROVADO</th>\n",
       "      <th>REPROVADO</th>\n",
       "      <th>TRANCADO/CANCELADO</th>\n",
       "      <th>nome_curso</th>\n",
       "    </tr>\n",
       "  </thead>\n",
       "  <tbody>\n",
       "    <tr>\n",
       "      <th>51</th>\n",
       "      <td>2000144.0</td>\n",
       "      <td>0.558214</td>\n",
       "      <td>0.344498</td>\n",
       "      <td>0.097289</td>\n",
       "      <td>QUÍMICA</td>\n",
       "    </tr>\n",
       "    <tr>\n",
       "      <th>33</th>\n",
       "      <td>2000054.0</td>\n",
       "      <td>0.474747</td>\n",
       "      <td>0.282828</td>\n",
       "      <td>0.242424</td>\n",
       "      <td>MATEMÁTICA</td>\n",
       "    </tr>\n",
       "    <tr>\n",
       "      <th>71</th>\n",
       "      <td>10320810.0</td>\n",
       "      <td>0.556216</td>\n",
       "      <td>0.280428</td>\n",
       "      <td>0.163357</td>\n",
       "      <td>CIÊNCIAS E TECNOLOGIA</td>\n",
       "    </tr>\n",
       "    <tr>\n",
       "      <th>49</th>\n",
       "      <td>2000124.0</td>\n",
       "      <td>0.634615</td>\n",
       "      <td>0.267483</td>\n",
       "      <td>0.097902</td>\n",
       "      <td>FÍSICA</td>\n",
       "    </tr>\n",
       "    <tr>\n",
       "      <th>60</th>\n",
       "      <td>3156200.0</td>\n",
       "      <td>0.565591</td>\n",
       "      <td>0.258065</td>\n",
       "      <td>0.176344</td>\n",
       "      <td>QUÍMICA DO PETRÓLEO</td>\n",
       "    </tr>\n",
       "  </tbody>\n",
       "</table>\n",
       "</div>"
      ],
      "text/plain": [
       "      id_curso  APROVADO  REPROVADO  TRANCADO/CANCELADO             nome_curso\n",
       "51   2000144.0  0.558214   0.344498            0.097289                QUÍMICA\n",
       "33   2000054.0  0.474747   0.282828            0.242424             MATEMÁTICA\n",
       "71  10320810.0  0.556216   0.280428            0.163357  CIÊNCIAS E TECNOLOGIA\n",
       "49   2000124.0  0.634615   0.267483            0.097902                 FÍSICA\n",
       "60   3156200.0  0.565591   0.258065            0.176344    QUÍMICA DO PETRÓLEO"
      ]
     },
     "execution_count": 27,
     "metadata": {},
     "output_type": "execute_result"
    }
   ],
   "source": [
    "print(\"Cursos com maiores índices de reprovação: \")\n",
    "taxas_curso.sort_values('REPROVADO', ascending=False).head()"
   ]
  },
  {
   "cell_type": "code",
   "execution_count": 28,
   "metadata": {},
   "outputs": [
    {
     "name": "stdout",
     "output_type": "stream",
     "text": [
      "Cursos com maiores índices de trancamentos/cancelamentos: \n"
     ]
    },
    {
     "data": {
      "text/html": [
       "<div>\n",
       "<style scoped>\n",
       "    .dataframe tbody tr th:only-of-type {\n",
       "        vertical-align: middle;\n",
       "    }\n",
       "\n",
       "    .dataframe tbody tr th {\n",
       "        vertical-align: top;\n",
       "    }\n",
       "\n",
       "    .dataframe thead th {\n",
       "        text-align: right;\n",
       "    }\n",
       "</style>\n",
       "<table border=\"1\" class=\"dataframe\">\n",
       "  <thead>\n",
       "    <tr style=\"text-align: right;\">\n",
       "      <th></th>\n",
       "      <th>id_curso</th>\n",
       "      <th>APROVADO</th>\n",
       "      <th>REPROVADO</th>\n",
       "      <th>TRANCADO/CANCELADO</th>\n",
       "      <th>nome_curso</th>\n",
       "    </tr>\n",
       "  </thead>\n",
       "  <tbody>\n",
       "    <tr>\n",
       "      <th>88</th>\n",
       "      <td>94598200.0</td>\n",
       "      <td>0.593525</td>\n",
       "      <td>0.154676</td>\n",
       "      <td>0.251799</td>\n",
       "      <td>ANÁLISE E DESENVOLVIMENTO DE SISTEMAS</td>\n",
       "    </tr>\n",
       "    <tr>\n",
       "      <th>33</th>\n",
       "      <td>2000054.0</td>\n",
       "      <td>0.474747</td>\n",
       "      <td>0.282828</td>\n",
       "      <td>0.242424</td>\n",
       "      <td>MATEMÁTICA</td>\n",
       "    </tr>\n",
       "    <tr>\n",
       "      <th>73</th>\n",
       "      <td>10426760.0</td>\n",
       "      <td>0.663163</td>\n",
       "      <td>0.112454</td>\n",
       "      <td>0.224383</td>\n",
       "      <td>GESTÃO DE POLÍTICAS PÚBLICAS</td>\n",
       "    </tr>\n",
       "    <tr>\n",
       "      <th>62</th>\n",
       "      <td>6633741.0</td>\n",
       "      <td>0.563739</td>\n",
       "      <td>0.212465</td>\n",
       "      <td>0.223796</td>\n",
       "      <td>CIÊNCIAS ATUARIAIS</td>\n",
       "    </tr>\n",
       "    <tr>\n",
       "      <th>87</th>\n",
       "      <td>92127264.0</td>\n",
       "      <td>0.559803</td>\n",
       "      <td>0.221191</td>\n",
       "      <td>0.219006</td>\n",
       "      <td>TECNOLOGIA DA INFORMAÇÃO</td>\n",
       "    </tr>\n",
       "  </tbody>\n",
       "</table>\n",
       "</div>"
      ],
      "text/plain": [
       "      id_curso  APROVADO  REPROVADO  TRANCADO/CANCELADO  \\\n",
       "88  94598200.0  0.593525   0.154676            0.251799   \n",
       "33   2000054.0  0.474747   0.282828            0.242424   \n",
       "73  10426760.0  0.663163   0.112454            0.224383   \n",
       "62   6633741.0  0.563739   0.212465            0.223796   \n",
       "87  92127264.0  0.559803   0.221191            0.219006   \n",
       "\n",
       "                               nome_curso  \n",
       "88  ANÁLISE E DESENVOLVIMENTO DE SISTEMAS  \n",
       "33                             MATEMÁTICA  \n",
       "73           GESTÃO DE POLÍTICAS PÚBLICAS  \n",
       "62                     CIÊNCIAS ATUARIAIS  \n",
       "87               TECNOLOGIA DA INFORMAÇÃO  "
      ]
     },
     "execution_count": 28,
     "metadata": {},
     "output_type": "execute_result"
    }
   ],
   "source": [
    "print(\"Cursos com maiores índices de trancamentos/cancelamentos: \")\n",
    "taxas_curso.sort_values('TRANCADO/CANCELADO', ascending=False).head()"
   ]
  },
  {
   "cell_type": "markdown",
   "metadata": {},
   "source": [
    "#### Dados socioeconômicos de discentes"
   ]
  },
  {
   "cell_type": "code",
   "execution_count": 29,
   "metadata": {},
   "outputs": [
    {
     "data": {
      "text/html": [
       "<div>\n",
       "<style scoped>\n",
       "    .dataframe tbody tr th:only-of-type {\n",
       "        vertical-align: middle;\n",
       "    }\n",
       "\n",
       "    .dataframe tbody tr th {\n",
       "        vertical-align: top;\n",
       "    }\n",
       "\n",
       "    .dataframe thead th {\n",
       "        text-align: right;\n",
       "    }\n",
       "</style>\n",
       "<table border=\"1\" class=\"dataframe\">\n",
       "  <thead>\n",
       "    <tr style=\"text-align: right;\">\n",
       "      <th></th>\n",
       "      <th>id_discente</th>\n",
       "      <th>ano</th>\n",
       "      <th>periodo</th>\n",
       "      <th>renda</th>\n",
       "      <th>escola_ens_medio</th>\n",
       "      <th>possui_bolsa_pesquisa</th>\n",
       "      <th>possui_auxilio_alimentacao</th>\n",
       "      <th>possui_auxilio_transporte</th>\n",
       "      <th>possui_auxilio_residencia_moradia</th>\n",
       "    </tr>\n",
       "  </thead>\n",
       "  <tbody>\n",
       "    <tr>\n",
       "      <th>0</th>\n",
       "      <td>9098c14ef1ad865247b2abda52806775</td>\n",
       "      <td>2017</td>\n",
       "      <td>1</td>\n",
       "      <td>2000.0</td>\n",
       "      <td>Todo em escola particular</td>\n",
       "      <td>f</td>\n",
       "      <td>f</td>\n",
       "      <td>f</td>\n",
       "      <td>f</td>\n",
       "    </tr>\n",
       "    <tr>\n",
       "      <th>1</th>\n",
       "      <td>694c169b65f2043aa95138e0037c8908</td>\n",
       "      <td>2017</td>\n",
       "      <td>1</td>\n",
       "      <td>3000.0</td>\n",
       "      <td>Todo em escola publica</td>\n",
       "      <td>f</td>\n",
       "      <td>f</td>\n",
       "      <td>f</td>\n",
       "      <td>f</td>\n",
       "    </tr>\n",
       "    <tr>\n",
       "      <th>2</th>\n",
       "      <td>bdd599acd452057916e6b4f177baf6a9</td>\n",
       "      <td>2017</td>\n",
       "      <td>1</td>\n",
       "      <td>1000.0</td>\n",
       "      <td>Todo em escola publica</td>\n",
       "      <td>f</td>\n",
       "      <td>f</td>\n",
       "      <td>f</td>\n",
       "      <td>f</td>\n",
       "    </tr>\n",
       "    <tr>\n",
       "      <th>3</th>\n",
       "      <td>cf43986a0745aa181201a9df000d5368</td>\n",
       "      <td>2017</td>\n",
       "      <td>1</td>\n",
       "      <td>4600.0</td>\n",
       "      <td>Todo em escola publica</td>\n",
       "      <td>f</td>\n",
       "      <td>f</td>\n",
       "      <td>f</td>\n",
       "      <td>f</td>\n",
       "    </tr>\n",
       "    <tr>\n",
       "      <th>4</th>\n",
       "      <td>e6c6a2cf710c27fe7c723c6fc8637624</td>\n",
       "      <td>2017</td>\n",
       "      <td>1</td>\n",
       "      <td>4500.0</td>\n",
       "      <td>Todo em escola publica</td>\n",
       "      <td>f</td>\n",
       "      <td>f</td>\n",
       "      <td>f</td>\n",
       "      <td>f</td>\n",
       "    </tr>\n",
       "  </tbody>\n",
       "</table>\n",
       "</div>"
      ],
      "text/plain": [
       "                        id_discente   ano  periodo   renda  \\\n",
       "0  9098c14ef1ad865247b2abda52806775  2017        1  2000.0   \n",
       "1  694c169b65f2043aa95138e0037c8908  2017        1  3000.0   \n",
       "2  bdd599acd452057916e6b4f177baf6a9  2017        1  1000.0   \n",
       "3  cf43986a0745aa181201a9df000d5368  2017        1  4600.0   \n",
       "4  e6c6a2cf710c27fe7c723c6fc8637624  2017        1  4500.0   \n",
       "\n",
       "             escola_ens_medio possui_bolsa_pesquisa  \\\n",
       "0  Todo em escola particular                      f   \n",
       "1     Todo em escola publica                      f   \n",
       "2     Todo em escola publica                      f   \n",
       "3     Todo em escola publica                      f   \n",
       "4     Todo em escola publica                      f   \n",
       "\n",
       "  possui_auxilio_alimentacao possui_auxilio_transporte  \\\n",
       "0                          f                         f   \n",
       "1                          f                         f   \n",
       "2                          f                         f   \n",
       "3                          f                         f   \n",
       "4                          f                         f   \n",
       "\n",
       "  possui_auxilio_residencia_moradia  \n",
       "0                                 f  \n",
       "1                                 f  \n",
       "2                                 f  \n",
       "3                                 f  \n",
       "4                                 f  "
      ]
     },
     "execution_count": 29,
     "metadata": {},
     "output_type": "execute_result"
    }
   ],
   "source": [
    "#importar banco de dados socioeconomicos de discentes\n",
    "#http://dados.ufrn.br/dataset/dados-socio-economicos-de-discentes\n",
    "dados_socio = pd.read_csv('data/dados-socio-economicos-20171.csv', delimiter=';')\n",
    "dados_socio.head()"
   ]
  },
  {
   "cell_type": "code",
   "execution_count": 30,
   "metadata": {},
   "outputs": [
    {
     "data": {
      "text/plain": [
       "(13916, 9)"
      ]
     },
     "execution_count": 30,
     "metadata": {},
     "output_type": "execute_result"
    }
   ],
   "source": [
    "dados_socio.shape"
   ]
  },
  {
   "cell_type": "code",
   "execution_count": 31,
   "metadata": {},
   "outputs": [
    {
     "data": {
      "text/plain": [
       "<matplotlib.axes._subplots.AxesSubplot at 0x7f895e1e8da0>"
      ]
     },
     "execution_count": 31,
     "metadata": {},
     "output_type": "execute_result"
    },
    {
     "data": {
      "image/png": "[encoded data removed]",
      "text/plain": [
       "<matplotlib.figure.Figure at 0x7f895e52a860>"
      ]
     },
     "metadata": {},
     "output_type": "display_data"
    }
   ],
   "source": [
    "dados_socio.renda.plot(kind='box', showfliers=False, title='Distribuição da renda per capita entre alunos com Cadastro Único na UFRN em 2017')"
   ]
  },
  {
   "cell_type": "code",
   "execution_count": 48,
   "metadata": {},
   "outputs": [],
   "source": [
    "dados_socio = pd.concat([dados_socio, pd.get_dummies(dados_socio.escola_ens_medio)], axis=1)\n",
    "dados_socio[['possui_bolsa_pesquisa','possui_auxilio_alimentacao','possui_auxilio_transporte','possui_auxilio_residencia_moradia']] = dados_socio[['possui_bolsa_pesquisa','possui_auxilio_alimentacao','possui_auxilio_transporte','possui_auxilio_residencia_moradia']].applymap(lambda x: 1 if (x=='t') else 0)"
   ]
  },
  {
   "cell_type": "code",
   "execution_count": 46,
   "metadata": {},
   "outputs": [
    {
     "data": {
      "text/plain": [
       "<matplotlib.axes._subplots.AxesSubplot at 0x7f8953705080>"
      ]
     },
     "execution_count": 46,
     "metadata": {},
     "output_type": "execute_result"
    },
    {
     "data": {
      "image/png": "[encoded data removed]",
      "text/plain": [
       "<matplotlib.figure.Figure at 0x7f894a8e8d30>"
      ]
     },
     "metadata": {},
     "output_type": "display_data"
    }
   ],
   "source": [
    "escolas = dados_socio.sum()[['possui_bolsa_pesquisa', 'possui_auxilio_alimentacao',\n",
    "       'possui_auxilio_transporte', 'possui_auxilio_residencia_moradia']]\n",
    "escolas.plot(kind='bar')"
   ]
  },
  {
   "cell_type": "code",
   "execution_count": 45,
   "metadata": {},
   "outputs": [
    {
     "data": {
      "text/plain": [
       "<matplotlib.axes._subplots.AxesSubplot at 0x7f8952e347f0>"
      ]
     },
     "execution_count": 45,
     "metadata": {},
     "output_type": "execute_result"
    },
    {
     "data": {
      "image/png": "[encoded data removed]",
      "text/plain": [
       "<matplotlib.figure.Figure at 0x7f8952e19ef0>"
      ]
     },
     "metadata": {},
     "output_type": "display_data"
    }
   ],
   "source": [
    "escolas = dados_socio.sum()[['Em escola Particular, com bolsa ', 'Outro tipo de escola ',\n",
    "       'Parte em escola pública parte em escola particular ',\n",
    "       'Todo em escola particular ', 'Todo em escola publica ']]\n",
    "escolas.plot(kind='bar')"
   ]
  },
  {
   "cell_type": "markdown",
   "metadata": {},
   "source": [
    "#### Dados complementares de discentes"
   ]
  },
  {
   "cell_type": "code",
   "execution_count": 33,
   "metadata": {},
   "outputs": [
    {
     "data": {
      "text/html": [
       "<div>\n",
       "<style scoped>\n",
       "    .dataframe tbody tr th:only-of-type {\n",
       "        vertical-align: middle;\n",
       "    }\n",
       "\n",
       "    .dataframe tbody tr th {\n",
       "        vertical-align: top;\n",
       "    }\n",
       "\n",
       "    .dataframe thead th {\n",
       "        text-align: right;\n",
       "    }\n",
       "</style>\n",
       "<table border=\"1\" class=\"dataframe\">\n",
       "  <thead>\n",
       "    <tr style=\"text-align: right;\">\n",
       "      <th></th>\n",
       "      <th>id_discente</th>\n",
       "      <th>sexo</th>\n",
       "      <th>data_nascimento</th>\n",
       "      <th>raca</th>\n",
       "      <th>estado_origem</th>\n",
       "      <th>cidade_origem</th>\n",
       "      <th>estado</th>\n",
       "      <th>municipio</th>\n",
       "      <th>bairro</th>\n",
       "      <th>nivel_ensino</th>\n",
       "      <th>forma_ingresso</th>\n",
       "      <th>ano_ingresso</th>\n",
       "      <th>periodo_ingresso</th>\n",
       "      <th>cotista</th>\n",
       "    </tr>\n",
       "  </thead>\n",
       "  <tbody>\n",
       "    <tr>\n",
       "      <th>0</th>\n",
       "      <td>0e356f33d9f25c70bd7b98ef1bd1ecd4</td>\n",
       "      <td>M</td>\n",
       "      <td>03-10-1943</td>\n",
       "      <td>Não Informado</td>\n",
       "      <td>Rio Grande do Norte</td>\n",
       "      <td>NATAL</td>\n",
       "      <td>Rio Grande do Norte</td>\n",
       "      <td>NATAL</td>\n",
       "      <td>NEOPOLIS</td>\n",
       "      <td>GRADUAÇÃO</td>\n",
       "      <td>VESTIBULAR</td>\n",
       "      <td>1969</td>\n",
       "      <td>1.0</td>\n",
       "      <td>f</td>\n",
       "    </tr>\n",
       "    <tr>\n",
       "      <th>1</th>\n",
       "      <td>a3f7753971d7ca9c1648616b1f7e4c48</td>\n",
       "      <td>M</td>\n",
       "      <td>21-02-1949</td>\n",
       "      <td>Não Informado</td>\n",
       "      <td>Rio de Janeiro</td>\n",
       "      <td>NaN</td>\n",
       "      <td>NaN</td>\n",
       "      <td>NaN</td>\n",
       "      <td>NaN</td>\n",
       "      <td>GRADUAÇÃO</td>\n",
       "      <td>VESTIBULAR</td>\n",
       "      <td>1970</td>\n",
       "      <td>1.0</td>\n",
       "      <td>f</td>\n",
       "    </tr>\n",
       "    <tr>\n",
       "      <th>2</th>\n",
       "      <td>d29e0a56e3cc973750e2d2cbabedc449</td>\n",
       "      <td>F</td>\n",
       "      <td>09-09-1947</td>\n",
       "      <td>Não Informado</td>\n",
       "      <td>NaN</td>\n",
       "      <td>NaN</td>\n",
       "      <td>NaN</td>\n",
       "      <td>NaN</td>\n",
       "      <td>NaN</td>\n",
       "      <td>GRADUAÇÃO</td>\n",
       "      <td>VESTIBULAR</td>\n",
       "      <td>1970</td>\n",
       "      <td>1.0</td>\n",
       "      <td>f</td>\n",
       "    </tr>\n",
       "    <tr>\n",
       "      <th>3</th>\n",
       "      <td>d4f89fe5c6dd43692b3c1fc4ce324fd5</td>\n",
       "      <td>M</td>\n",
       "      <td>22-04-1949</td>\n",
       "      <td>Não Informado</td>\n",
       "      <td>Rio Grande do Norte</td>\n",
       "      <td>NaN</td>\n",
       "      <td>NaN</td>\n",
       "      <td>NaN</td>\n",
       "      <td>NaN</td>\n",
       "      <td>GRADUAÇÃO</td>\n",
       "      <td>VESTIBULAR</td>\n",
       "      <td>1970</td>\n",
       "      <td>1.0</td>\n",
       "      <td>f</td>\n",
       "    </tr>\n",
       "    <tr>\n",
       "      <th>4</th>\n",
       "      <td>e2f244371122aea4140427ada6f391b4</td>\n",
       "      <td>M</td>\n",
       "      <td>21-03-1944</td>\n",
       "      <td>Não Informado</td>\n",
       "      <td>Rio Grande do Norte</td>\n",
       "      <td>NATAL</td>\n",
       "      <td>Rio Grande do Norte</td>\n",
       "      <td>NATAL</td>\n",
       "      <td>ALECRIM</td>\n",
       "      <td>GRADUAÇÃO</td>\n",
       "      <td>VESTIBULAR</td>\n",
       "      <td>1970</td>\n",
       "      <td>1.0</td>\n",
       "      <td>f</td>\n",
       "    </tr>\n",
       "  </tbody>\n",
       "</table>\n",
       "</div>"
      ],
      "text/plain": [
       "                        id_discente sexo data_nascimento           raca  \\\n",
       "0  0e356f33d9f25c70bd7b98ef1bd1ecd4    M      03-10-1943  Não Informado   \n",
       "1  a3f7753971d7ca9c1648616b1f7e4c48    M      21-02-1949  Não Informado   \n",
       "2  d29e0a56e3cc973750e2d2cbabedc449    F      09-09-1947  Não Informado   \n",
       "3  d4f89fe5c6dd43692b3c1fc4ce324fd5    M      22-04-1949  Não Informado   \n",
       "4  e2f244371122aea4140427ada6f391b4    M      21-03-1944  Não Informado   \n",
       "\n",
       "         estado_origem cidade_origem               estado municipio    bairro  \\\n",
       "0  Rio Grande do Norte         NATAL  Rio Grande do Norte     NATAL  NEOPOLIS   \n",
       "1       Rio de Janeiro           NaN                  NaN       NaN       NaN   \n",
       "2                  NaN           NaN                  NaN       NaN       NaN   \n",
       "3  Rio Grande do Norte           NaN                  NaN       NaN       NaN   \n",
       "4  Rio Grande do Norte         NATAL  Rio Grande do Norte     NATAL   ALECRIM   \n",
       "\n",
       "  nivel_ensino forma_ingresso  ano_ingresso  periodo_ingresso cotista  \n",
       "0    GRADUAÇÃO     VESTIBULAR          1969               1.0       f  \n",
       "1    GRADUAÇÃO     VESTIBULAR          1970               1.0       f  \n",
       "2    GRADUAÇÃO     VESTIBULAR          1970               1.0       f  \n",
       "3    GRADUAÇÃO     VESTIBULAR          1970               1.0       f  \n",
       "4    GRADUAÇÃO     VESTIBULAR          1970               1.0       f  "
      ]
     },
     "execution_count": 33,
     "metadata": {},
     "output_type": "execute_result"
    }
   ],
   "source": [
    "#importar banco de dados complementares de discentes\n",
    "#http://dados.ufrn.br/dataset/dados-socio-economicos-de-discentes\n",
    "dados_comp = pd.read_csv('data/dados-pessoais-discentes', delimiter=';')\n",
    "dados_comp.head()"
   ]
  },
  {
   "cell_type": "code",
   "execution_count": 34,
   "metadata": {},
   "outputs": [],
   "source": [
    "#agrupar por turma e discente, para resgatar o registro da primeira unidade (é suficiente)\n",
    "\n",
    "#adicionar coluna booleana para indicar cada sexo\n",
    "dados_comp = pd.concat([dados_comp, pd.get_dummies(dados_comp.sexo)], axis=1)\n",
    "\n",
    "#depois, agrupar por sexo para verificar o indice de ingressantes em cada um\n",
    "taxas_sexo = dados_comp.groupby('ano_ingresso').mean()[['M','F']].reset_index()"
   ]
  },
  {
   "cell_type": "code",
   "execution_count": 35,
   "metadata": {},
   "outputs": [
    {
     "data": {
      "text/plain": [
       "<matplotlib.axes._subplots.AxesSubplot at 0x7f8953cbba58>"
      ]
     },
     "execution_count": 35,
     "metadata": {},
     "output_type": "execute_result"
    },
    {
     "data": {
      "image/png": "[encoded data removed]",
      "text/plain": [
       "<matplotlib.figure.Figure at 0x7f8953cbb470>"
      ]
     },
     "metadata": {},
     "output_type": "display_data"
    }
   ],
   "source": [
    "ax1 = taxas_sexo.plot(x='ano_ingresso', y='M', xlim=[1970, 2018], color='r', title='Percentual de ingressantes na UFRN por sexo')\n",
    "taxas_sexo.plot(x='ano_ingresso', y='F', xlim=[1970, 2018], color='b', ax=ax1)"
   ]
  },
  {
   "cell_type": "code",
   "execution_count": 36,
   "metadata": {},
   "outputs": [
    {
     "data": {
      "text/html": [
       "<div>\n",
       "<style scoped>\n",
       "    .dataframe tbody tr th:only-of-type {\n",
       "        vertical-align: middle;\n",
       "    }\n",
       "\n",
       "    .dataframe tbody tr th {\n",
       "        vertical-align: top;\n",
       "    }\n",
       "\n",
       "    .dataframe thead th {\n",
       "        text-align: right;\n",
       "    }\n",
       "</style>\n",
       "<table border=\"1\" class=\"dataframe\">\n",
       "  <thead>\n",
       "    <tr style=\"text-align: right;\">\n",
       "      <th></th>\n",
       "      <th>ano_ingresso</th>\n",
       "      <th>M</th>\n",
       "      <th>F</th>\n",
       "    </tr>\n",
       "  </thead>\n",
       "  <tbody>\n",
       "    <tr>\n",
       "      <th>46</th>\n",
       "      <td>2014</td>\n",
       "      <td>0.505925</td>\n",
       "      <td>0.490605</td>\n",
       "    </tr>\n",
       "    <tr>\n",
       "      <th>47</th>\n",
       "      <td>2015</td>\n",
       "      <td>0.535764</td>\n",
       "      <td>0.463993</td>\n",
       "    </tr>\n",
       "    <tr>\n",
       "      <th>48</th>\n",
       "      <td>2016</td>\n",
       "      <td>0.532494</td>\n",
       "      <td>0.467124</td>\n",
       "    </tr>\n",
       "    <tr>\n",
       "      <th>49</th>\n",
       "      <td>2017</td>\n",
       "      <td>0.538429</td>\n",
       "      <td>0.460855</td>\n",
       "    </tr>\n",
       "    <tr>\n",
       "      <th>50</th>\n",
       "      <td>2018</td>\n",
       "      <td>0.571613</td>\n",
       "      <td>0.428172</td>\n",
       "    </tr>\n",
       "  </tbody>\n",
       "</table>\n",
       "</div>"
      ],
      "text/plain": [
       "    ano_ingresso         M         F\n",
       "46          2014  0.505925  0.490605\n",
       "47          2015  0.535764  0.463993\n",
       "48          2016  0.532494  0.467124\n",
       "49          2017  0.538429  0.460855\n",
       "50          2018  0.571613  0.428172"
      ]
     },
     "execution_count": 36,
     "metadata": {},
     "output_type": "execute_result"
    }
   ],
   "source": [
    "taxas_sexo.tail()"
   ]
  },
  {
   "cell_type": "code",
   "execution_count": null,
   "metadata": {},
   "outputs": [],
   "source": []
  }
 ],
 "metadata": {
  "kernelspec": {
   "display_name": "Python 3",
   "language": "python",
   "name": "python3"
  },
  "language_info": {
   "codemirror_mode": {
    "name": "ipython",
    "version": 3
   },
   "file_extension": ".py",
   "mimetype": "text/x-python",
   "name": "python",
   "nbconvert_exporter": "python",
   "pygments_lexer": "ipython3",
   "version": "3.6.4"
  }
 },
 "nbformat": 4,
 "nbformat_minor": 2
}
