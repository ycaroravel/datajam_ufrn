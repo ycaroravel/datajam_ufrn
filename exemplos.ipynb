{
 "cells": [
  {
   "cell_type": "code",
   "execution_count": null,
   "metadata": {},
   "outputs": [],
   "source": []
  },
  {
   "cell_type": "code",
   "execution_count": 1,
   "metadata": {},
   "outputs": [],
   "source": [
    "import numpy as np\n",
    "import pandas as pd\n",
    "import matplotlib.pyplot as plt\n",
    "%matplotlib inline"
   ]
  },
  {
   "cell_type": "markdown",
   "metadata": {},
   "source": [
    "#### Distribuição das notas"
   ]
  },
  {
   "cell_type": "code",
   "execution_count": 2,
   "metadata": {},
   "outputs": [
    {
     "data": {
      "text/html": [
       "<div>\n",
       "<style scoped>\n",
       "    .dataframe tbody tr th:only-of-type {\n",
       "        vertical-align: middle;\n",
       "    }\n",
       "\n",
       "    .dataframe tbody tr th {\n",
       "        vertical-align: top;\n",
       "    }\n",
       "\n",
       "    .dataframe thead th {\n",
       "        text-align: right;\n",
       "    }\n",
       "</style>\n",
       "<table border=\"1\" class=\"dataframe\">\n",
       "  <thead>\n",
       "    <tr style=\"text-align: right;\">\n",
       "      <th></th>\n",
       "      <th>id_turma</th>\n",
       "      <th>discente</th>\n",
       "      <th>id_curso</th>\n",
       "      <th>unidade</th>\n",
       "      <th>nota</th>\n",
       "      <th>reposicao</th>\n",
       "      <th>faltas_unidade</th>\n",
       "      <th>media_final</th>\n",
       "      <th>numero_total_faltas</th>\n",
       "      <th>descricao</th>\n",
       "    </tr>\n",
       "  </thead>\n",
       "  <tbody>\n",
       "    <tr>\n",
       "      <th>0</th>\n",
       "      <td>57610457</td>\n",
       "      <td>0efbb9328136afcae8d0ecc17296e94e</td>\n",
       "      <td>6633741.0</td>\n",
       "      <td>NaN</td>\n",
       "      <td>NaN</td>\n",
       "      <td>NaN</td>\n",
       "      <td>NaN</td>\n",
       "      <td>NaN</td>\n",
       "      <td>NaN</td>\n",
       "      <td>DESISTENCIA</td>\n",
       "    </tr>\n",
       "    <tr>\n",
       "      <th>1</th>\n",
       "      <td>57610457</td>\n",
       "      <td>91fbe8c5c2f52742c2c1dc15d286a3f3</td>\n",
       "      <td>2000030.0</td>\n",
       "      <td>3.0</td>\n",
       "      <td>0.0</td>\n",
       "      <td>f</td>\n",
       "      <td>0.0</td>\n",
       "      <td>0.0</td>\n",
       "      <td>48.0</td>\n",
       "      <td>CANCELADO</td>\n",
       "    </tr>\n",
       "    <tr>\n",
       "      <th>2</th>\n",
       "      <td>57610457</td>\n",
       "      <td>91fbe8c5c2f52742c2c1dc15d286a3f3</td>\n",
       "      <td>2000030.0</td>\n",
       "      <td>2.0</td>\n",
       "      <td>0.0</td>\n",
       "      <td>f</td>\n",
       "      <td>0.0</td>\n",
       "      <td>0.0</td>\n",
       "      <td>48.0</td>\n",
       "      <td>CANCELADO</td>\n",
       "    </tr>\n",
       "    <tr>\n",
       "      <th>3</th>\n",
       "      <td>57610457</td>\n",
       "      <td>91fbe8c5c2f52742c2c1dc15d286a3f3</td>\n",
       "      <td>2000030.0</td>\n",
       "      <td>1.0</td>\n",
       "      <td>0.0</td>\n",
       "      <td>f</td>\n",
       "      <td>0.0</td>\n",
       "      <td>0.0</td>\n",
       "      <td>48.0</td>\n",
       "      <td>CANCELADO</td>\n",
       "    </tr>\n",
       "    <tr>\n",
       "      <th>4</th>\n",
       "      <td>57610457</td>\n",
       "      <td>7c64aa349e5565426721790cfd03a326</td>\n",
       "      <td>2000030.0</td>\n",
       "      <td>1.0</td>\n",
       "      <td>8.5</td>\n",
       "      <td>f</td>\n",
       "      <td>0.0</td>\n",
       "      <td>9.2</td>\n",
       "      <td>3.0</td>\n",
       "      <td>APROVADO</td>\n",
       "    </tr>\n",
       "    <tr>\n",
       "      <th>5</th>\n",
       "      <td>57610457</td>\n",
       "      <td>7c64aa349e5565426721790cfd03a326</td>\n",
       "      <td>2000030.0</td>\n",
       "      <td>3.0</td>\n",
       "      <td>9.7</td>\n",
       "      <td>f</td>\n",
       "      <td>0.0</td>\n",
       "      <td>9.2</td>\n",
       "      <td>3.0</td>\n",
       "      <td>APROVADO</td>\n",
       "    </tr>\n",
       "    <tr>\n",
       "      <th>6</th>\n",
       "      <td>57610457</td>\n",
       "      <td>7c64aa349e5565426721790cfd03a326</td>\n",
       "      <td>2000030.0</td>\n",
       "      <td>2.0</td>\n",
       "      <td>9.4</td>\n",
       "      <td>f</td>\n",
       "      <td>0.0</td>\n",
       "      <td>9.2</td>\n",
       "      <td>3.0</td>\n",
       "      <td>APROVADO</td>\n",
       "    </tr>\n",
       "    <tr>\n",
       "      <th>7</th>\n",
       "      <td>57610457</td>\n",
       "      <td>a0e2a12d4ebf86dac1e9c234905e2082</td>\n",
       "      <td>2000030.0</td>\n",
       "      <td>3.0</td>\n",
       "      <td>7.5</td>\n",
       "      <td>f</td>\n",
       "      <td>0.0</td>\n",
       "      <td>5.6</td>\n",
       "      <td>6.0</td>\n",
       "      <td>APROVADO POR NOTA</td>\n",
       "    </tr>\n",
       "    <tr>\n",
       "      <th>8</th>\n",
       "      <td>57610457</td>\n",
       "      <td>a0e2a12d4ebf86dac1e9c234905e2082</td>\n",
       "      <td>2000030.0</td>\n",
       "      <td>2.0</td>\n",
       "      <td>3.7</td>\n",
       "      <td>f</td>\n",
       "      <td>0.0</td>\n",
       "      <td>5.6</td>\n",
       "      <td>6.0</td>\n",
       "      <td>APROVADO POR NOTA</td>\n",
       "    </tr>\n",
       "    <tr>\n",
       "      <th>9</th>\n",
       "      <td>57610457</td>\n",
       "      <td>a0e2a12d4ebf86dac1e9c234905e2082</td>\n",
       "      <td>2000030.0</td>\n",
       "      <td>1.0</td>\n",
       "      <td>5.7</td>\n",
       "      <td>f</td>\n",
       "      <td>0.0</td>\n",
       "      <td>5.6</td>\n",
       "      <td>6.0</td>\n",
       "      <td>APROVADO POR NOTA</td>\n",
       "    </tr>\n",
       "  </tbody>\n",
       "</table>\n",
       "</div>"
      ],
      "text/plain": [
       "   id_turma                          discente   id_curso  unidade  nota  \\\n",
       "0  57610457  0efbb9328136afcae8d0ecc17296e94e  6633741.0      NaN   NaN   \n",
       "1  57610457  91fbe8c5c2f52742c2c1dc15d286a3f3  2000030.0      3.0   0.0   \n",
       "2  57610457  91fbe8c5c2f52742c2c1dc15d286a3f3  2000030.0      2.0   0.0   \n",
       "3  57610457  91fbe8c5c2f52742c2c1dc15d286a3f3  2000030.0      1.0   0.0   \n",
       "4  57610457  7c64aa349e5565426721790cfd03a326  2000030.0      1.0   8.5   \n",
       "5  57610457  7c64aa349e5565426721790cfd03a326  2000030.0      3.0   9.7   \n",
       "6  57610457  7c64aa349e5565426721790cfd03a326  2000030.0      2.0   9.4   \n",
       "7  57610457  a0e2a12d4ebf86dac1e9c234905e2082  2000030.0      3.0   7.5   \n",
       "8  57610457  a0e2a12d4ebf86dac1e9c234905e2082  2000030.0      2.0   3.7   \n",
       "9  57610457  a0e2a12d4ebf86dac1e9c234905e2082  2000030.0      1.0   5.7   \n",
       "\n",
       "  reposicao  faltas_unidade  media_final  numero_total_faltas  \\\n",
       "0       NaN             NaN          NaN                  NaN   \n",
       "1         f             0.0          0.0                 48.0   \n",
       "2         f             0.0          0.0                 48.0   \n",
       "3         f             0.0          0.0                 48.0   \n",
       "4         f             0.0          9.2                  3.0   \n",
       "5         f             0.0          9.2                  3.0   \n",
       "6         f             0.0          9.2                  3.0   \n",
       "7         f             0.0          5.6                  6.0   \n",
       "8         f             0.0          5.6                  6.0   \n",
       "9         f             0.0          5.6                  6.0   \n",
       "\n",
       "           descricao  \n",
       "0        DESISTENCIA  \n",
       "1          CANCELADO  \n",
       "2          CANCELADO  \n",
       "3          CANCELADO  \n",
       "4           APROVADO  \n",
       "5           APROVADO  \n",
       "6           APROVADO  \n",
       "7  APROVADO POR NOTA  \n",
       "8  APROVADO POR NOTA  \n",
       "9  APROVADO POR NOTA  "
      ]
     },
     "execution_count": 2,
     "metadata": {},
     "output_type": "execute_result"
    }
   ],
   "source": [
    "#importar banco de dados de matriculas em 2017.2\n",
    "#http://dados.ufrn.br/dataset/matriculas-componentes\n",
    "#cada linha apresenta o registro da nota de um discente em uma unidade de um componente curricular\n",
    "matriculas = pd.read_csv('data/matricula-componente-20172', delimiter=';')\n",
    "matriculas.head(10)"
   ]
  },
  {
   "cell_type": "code",
   "execution_count": 3,
   "metadata": {},
   "outputs": [],
   "source": [
    "#agrupar matriculas por turma e discente e resgatar a media final de cada aluno\n",
    "medias_aluno = matriculas.groupby(['id_turma', 'discente']).first()['media_final']"
   ]
  },
  {
   "cell_type": "code",
   "execution_count": 4,
   "metadata": {},
   "outputs": [
    {
     "data": {
      "text/plain": [
       "<matplotlib.axes._subplots.AxesSubplot at 0x7f896152d6a0>"
      ]
     },
     "execution_count": 4,
     "metadata": {},
     "output_type": "execute_result"
    },
    {
     "data": {
      "image/png": "[encoded data removed]",
      "text/plain": [
       "<matplotlib.figure.Figure at 0x7f8961c80c88>"
      ]
     },
     "metadata": {},
     "output_type": "display_data"
    }
   ],
   "source": [
    "medias_aluno.plot(kind='hist', bins=50, title='Distribuição de notas em turmas - 2017.2')"
   ]
  },
  {
   "cell_type": "code",
   "execution_count": 5,
   "metadata": {},
   "outputs": [
    {
     "data": {
      "text/plain": [
       "<matplotlib.axes._subplots.AxesSubplot at 0x7f898437c6a0>"
      ]
     },
     "execution_count": 5,
     "metadata": {},
     "output_type": "execute_result"
    },
    {
     "data": {
      "image/png": "[encoded data removed]",
      "text/plain": [
       "<matplotlib.figure.Figure at 0x7f895e592ef0>"
      ]
     },
     "metadata": {},
     "output_type": "display_data"
    }
   ],
   "source": [
    "medias_aluno.plot(kind='box', title='Distribuição de notas em turmas - 2017.2')"
   ]
  },
  {
   "cell_type": "markdown",
   "metadata": {},
   "source": [
    "#### Médias por cursos de graduação"
   ]
  },
  {
   "cell_type": "code",
   "execution_count": 6,
   "metadata": {},
   "outputs": [
    {
     "data": {
      "text/html": [
       "<div>\n",
       "<style scoped>\n",
       "    .dataframe tbody tr th:only-of-type {\n",
       "        vertical-align: middle;\n",
       "    }\n",
       "\n",
       "    .dataframe tbody tr th {\n",
       "        vertical-align: top;\n",
       "    }\n",
       "\n",
       "    .dataframe thead th {\n",
       "        text-align: right;\n",
       "    }\n",
       "</style>\n",
       "<table border=\"1\" class=\"dataframe\">\n",
       "  <thead>\n",
       "    <tr style=\"text-align: right;\">\n",
       "      <th></th>\n",
       "      <th>id_curso</th>\n",
       "      <th>nome</th>\n",
       "      <th>id_coordenador</th>\n",
       "      <th>coordenador</th>\n",
       "      <th>situacao_curso</th>\n",
       "      <th>nivel_ensino</th>\n",
       "      <th>grau_academico</th>\n",
       "      <th>modalidade_educacao</th>\n",
       "      <th>area_conhecimento</th>\n",
       "      <th>tipo_oferta</th>\n",
       "      <th>...</th>\n",
       "      <th>municipio</th>\n",
       "      <th>campus</th>\n",
       "      <th>id_unidade_responsavel</th>\n",
       "      <th>unidade_responsavel</th>\n",
       "      <th>website</th>\n",
       "      <th>data_funcionamento</th>\n",
       "      <th>codigo_inep</th>\n",
       "      <th>dou</th>\n",
       "      <th>portaria_reconhecimento</th>\n",
       "      <th>convenio_academico</th>\n",
       "    </tr>\n",
       "  </thead>\n",
       "  <tbody>\n",
       "    <tr>\n",
       "      <th>0</th>\n",
       "      <td>2000002</td>\n",
       "      <td>ADMINISTRAÇÃO</td>\n",
       "      <td>NaN</td>\n",
       "      <td>NaN</td>\n",
       "      <td>ATIVO</td>\n",
       "      <td>GRADUAÇÃO</td>\n",
       "      <td>BACHARELADO</td>\n",
       "      <td>Presencial</td>\n",
       "      <td>Ciências Sociais Aplicadas</td>\n",
       "      <td>Regular</td>\n",
       "      <td>...</td>\n",
       "      <td>NATAL</td>\n",
       "      <td>Campus Central</td>\n",
       "      <td>443</td>\n",
       "      <td>CENTRO DE CIÊNCIAS SOCIAIS APLICADAS</td>\n",
       "      <td>http://sol.ccsa.ufrn.br/ccsa/areas/adm/adminis...</td>\n",
       "      <td>1971-09-16</td>\n",
       "      <td>12311.0</td>\n",
       "      <td>2017-04-04</td>\n",
       "      <td>Portaria nº 272/2017 - MEC</td>\n",
       "      <td>NaN</td>\n",
       "    </tr>\n",
       "    <tr>\n",
       "      <th>1</th>\n",
       "      <td>2000004</td>\n",
       "      <td>ADMINISTRAÇÃO</td>\n",
       "      <td>24415.0</td>\n",
       "      <td>ANDREA CRISTINA SANTOS DE JESUS</td>\n",
       "      <td>ATIVO</td>\n",
       "      <td>GRADUAÇÃO</td>\n",
       "      <td>BACHARELADO</td>\n",
       "      <td>Presencial</td>\n",
       "      <td>Ciências Sociais Aplicadas</td>\n",
       "      <td>Regular</td>\n",
       "      <td>...</td>\n",
       "      <td>CURRAIS NOVOS</td>\n",
       "      <td>Campus Currais Novos</td>\n",
       "      <td>1482</td>\n",
       "      <td>CENTRO DE  ENSINO SUPERIOR DO SERIDÓ</td>\n",
       "      <td>NaN</td>\n",
       "      <td>1978-09-15</td>\n",
       "      <td>12355.0</td>\n",
       "      <td>2017-04-04</td>\n",
       "      <td>Portaria nº 272/2017 - MEC</td>\n",
       "      <td>NaN</td>\n",
       "    </tr>\n",
       "    <tr>\n",
       "      <th>2</th>\n",
       "      <td>15315770</td>\n",
       "      <td>ADMINISTRAÇÃO PÚBLICA</td>\n",
       "      <td>23122.0</td>\n",
       "      <td>MATILDE MEDEIROS DE ARAÚJO</td>\n",
       "      <td>ATIVO</td>\n",
       "      <td>GRADUAÇÃO</td>\n",
       "      <td>BACHARELADO</td>\n",
       "      <td>A Distância</td>\n",
       "      <td>Ciências Sociais Aplicadas</td>\n",
       "      <td>Regular</td>\n",
       "      <td>...</td>\n",
       "      <td>NATAL</td>\n",
       "      <td>NaN</td>\n",
       "      <td>443</td>\n",
       "      <td>CENTRO DE CIÊNCIAS SOCIAIS APLICADAS</td>\n",
       "      <td>NaN</td>\n",
       "      <td>NaN</td>\n",
       "      <td>1151028.0</td>\n",
       "      <td>2014-04-11</td>\n",
       "      <td>Portaria nº 226/2014 - DIREG/MEC</td>\n",
       "      <td>NaN</td>\n",
       "    </tr>\n",
       "    <tr>\n",
       "      <th>3</th>\n",
       "      <td>2576632</td>\n",
       "      <td>AGRONOMIA</td>\n",
       "      <td>5758350.0</td>\n",
       "      <td>JOSE HAMILTON DA COSTA FILHO</td>\n",
       "      <td>ATIVO</td>\n",
       "      <td>GRADUAÇÃO</td>\n",
       "      <td>BACHARELADO</td>\n",
       "      <td>Presencial</td>\n",
       "      <td>Ciências Agrárias</td>\n",
       "      <td>Regular</td>\n",
       "      <td>...</td>\n",
       "      <td>MACAÍBA</td>\n",
       "      <td>NaN</td>\n",
       "      <td>351</td>\n",
       "      <td>ESCOLA AGRÍCOLA DE JUNDIAÍ</td>\n",
       "      <td>NaN</td>\n",
       "      <td>NaN</td>\n",
       "      <td>1127694.0</td>\n",
       "      <td>2017-07-28</td>\n",
       "      <td>Portaria Nº 797/2017 - MEC</td>\n",
       "      <td>NaN</td>\n",
       "    </tr>\n",
       "    <tr>\n",
       "      <th>4</th>\n",
       "      <td>94598200</td>\n",
       "      <td>ANÁLISE E DESENVOLVIMENTO DE SISTEMAS</td>\n",
       "      <td>5757908.0</td>\n",
       "      <td>TANIRO CHACON RODRIGUES</td>\n",
       "      <td>ATIVO</td>\n",
       "      <td>GRADUAÇÃO</td>\n",
       "      <td>TECNOLÓGICO</td>\n",
       "      <td>Presencial</td>\n",
       "      <td>Outra</td>\n",
       "      <td>Anual</td>\n",
       "      <td>...</td>\n",
       "      <td>MACAÍBA</td>\n",
       "      <td>NaN</td>\n",
       "      <td>351</td>\n",
       "      <td>ESCOLA AGRÍCOLA DE JUNDIAÍ</td>\n",
       "      <td>NaN</td>\n",
       "      <td>NaN</td>\n",
       "      <td>1188193.0</td>\n",
       "      <td>2015-12-24</td>\n",
       "      <td>Portaria nº 1034/2015 - DIREG/MEC</td>\n",
       "      <td>NaN</td>\n",
       "    </tr>\n",
       "  </tbody>\n",
       "</table>\n",
       "<p>5 rows × 22 columns</p>\n",
       "</div>"
      ],
      "text/plain": [
       "   id_curso                                   nome  id_coordenador  \\\n",
       "0   2000002                          ADMINISTRAÇÃO             NaN   \n",
       "1   2000004                          ADMINISTRAÇÃO         24415.0   \n",
       "2  15315770                  ADMINISTRAÇÃO PÚBLICA         23122.0   \n",
       "3   2576632                              AGRONOMIA       5758350.0   \n",
       "4  94598200  ANÁLISE E DESENVOLVIMENTO DE SISTEMAS       5757908.0   \n",
       "\n",
       "                       coordenador situacao_curso nivel_ensino grau_academico  \\\n",
       "0                              NaN          ATIVO    GRADUAÇÃO    BACHARELADO   \n",
       "1  ANDREA CRISTINA SANTOS DE JESUS          ATIVO    GRADUAÇÃO    BACHARELADO   \n",
       "2       MATILDE MEDEIROS DE ARAÚJO          ATIVO    GRADUAÇÃO    BACHARELADO   \n",
       "3     JOSE HAMILTON DA COSTA FILHO          ATIVO    GRADUAÇÃO    BACHARELADO   \n",
       "4          TANIRO CHACON RODRIGUES          ATIVO    GRADUAÇÃO    TECNOLÓGICO   \n",
       "\n",
       "  modalidade_educacao           area_conhecimento tipo_oferta  \\\n",
       "0          Presencial  Ciências Sociais Aplicadas     Regular   \n",
       "1          Presencial  Ciências Sociais Aplicadas     Regular   \n",
       "2         A Distância  Ciências Sociais Aplicadas     Regular   \n",
       "3          Presencial           Ciências Agrárias     Regular   \n",
       "4          Presencial                       Outra       Anual   \n",
       "\n",
       "         ...              municipio                campus  \\\n",
       "0        ...                  NATAL        Campus Central   \n",
       "1        ...          CURRAIS NOVOS  Campus Currais Novos   \n",
       "2        ...                  NATAL                   NaN   \n",
       "3        ...                MACAÍBA                   NaN   \n",
       "4        ...                MACAÍBA                   NaN   \n",
       "\n",
       "  id_unidade_responsavel                   unidade_responsavel  \\\n",
       "0                    443  CENTRO DE CIÊNCIAS SOCIAIS APLICADAS   \n",
       "1                   1482  CENTRO DE  ENSINO SUPERIOR DO SERIDÓ   \n",
       "2                    443  CENTRO DE CIÊNCIAS SOCIAIS APLICADAS   \n",
       "3                    351            ESCOLA AGRÍCOLA DE JUNDIAÍ   \n",
       "4                    351            ESCOLA AGRÍCOLA DE JUNDIAÍ   \n",
       "\n",
       "                                             website data_funcionamento  \\\n",
       "0  http://sol.ccsa.ufrn.br/ccsa/areas/adm/adminis...         1971-09-16   \n",
       "1                                                NaN         1978-09-15   \n",
       "2                                                NaN                NaN   \n",
       "3                                                NaN                NaN   \n",
       "4                                                NaN                NaN   \n",
       "\n",
       "  codigo_inep         dou            portaria_reconhecimento  \\\n",
       "0     12311.0  2017-04-04         Portaria nº 272/2017 - MEC   \n",
       "1     12355.0  2017-04-04         Portaria nº 272/2017 - MEC   \n",
       "2   1151028.0  2014-04-11   Portaria nº 226/2014 - DIREG/MEC   \n",
       "3   1127694.0  2017-07-28         Portaria Nº 797/2017 - MEC   \n",
       "4   1188193.0  2015-12-24  Portaria nº 1034/2015 - DIREG/MEC   \n",
       "\n",
       "  convenio_academico  \n",
       "0                NaN  \n",
       "1                NaN  \n",
       "2                NaN  \n",
       "3                NaN  \n",
       "4                NaN  \n",
       "\n",
       "[5 rows x 22 columns]"
      ]
     },
     "execution_count": 6,
     "metadata": {},
     "output_type": "execute_result"
    }
   ],
   "source": [
    "#importar informações sobre os cursos de graduação da UFRN\n",
    "#http://dados.ufrn.br/dataset/cursos-de-graduacao\n",
    "cursos = pd.read_csv('data/cursos-graduacao', delimiter=';')\n",
    "cursos.head()"
   ]
  },
  {
   "cell_type": "code",
   "execution_count": null,
   "metadata": {},
   "outputs": [],
   "source": [
    "#separar matriculas referentes a cursos de graduação\n",
    "matriculas = matriculas[matriculas.id_curso.isin(cursos.id_curso)]"
   ]
  },
  {
   "cell_type": "code",
   "execution_count": null,
   "metadata": {},
   "outputs": [],
   "source": [
    "#agrupar matricular por turma e discente e, posteriormente, por curso\n",
    "medias_curso = matriculas.groupby(['id_turma', 'discente']).first().groupby('id_curso').mean()['media_final'].to_frame().reset_index()"
   ]
  },
  {
   "cell_type": "code",
   "execution_count": null,
   "metadata": {},
   "outputs": [],
   "source": [
    "#resgatar o nome do curso a partir do id\n",
    "medias['nome_curso'] = medias.id_curso.apply(lambda x: cursos.loc[cursos.id_curso==x, 'nome'].values[0])"
   ]
  },
  {
   "cell_type": "code",
   "execution_count": null,
   "metadata": {},
   "outputs": [],
   "source": [
    "print(\"Cursos com menores médias entre alunos: \")\n",
    "medias.sort_values('media_final').head()"
   ]
  },
  {
   "cell_type": "code",
   "execution_count": null,
   "metadata": {},
   "outputs": [],
   "source": [
    "print(\"Cursos com maiores médias entre alunos: \")\n",
    "medias.sort_values('media_final').tail()"
   ]
  },
  {
   "cell_type": "code",
   "execution_count": null,
   "metadata": {},
   "outputs": [],
   "source": [
    "medias.media_final.plot(kind='box', title='Distribuição das médias finais por cursos em 2017.2')"
   ]
  },
  {
   "cell_type": "markdown",
   "metadata": {},
   "source": [
    "#### Taxas de aprovação, reprovação e trancamentos/cancelamentos por curso"
   ]
  },
  {
   "cell_type": "code",
   "execution_count": null,
   "metadata": {},
   "outputs": [],
   "source": [
    "#verificar os status das matrículas\n",
    "matriculas.descricao.unique()"
   ]
  },
  {
   "cell_type": "code",
   "execution_count": null,
   "metadata": {},
   "outputs": [],
   "source": [
    "#selecionar matriculas em cursos de graduação e excluir registros com status\n",
    "#'DESISTENCIA', 'INDEFERIDO', 'DISPENSADO', 'EM ESPERA', 'CUMPRIU', 'AGUARDANDO DEFERIMENTO'\n",
    "matriculas = matriculas[matriculas.id_curso.isin(cursos.id_curso) & \n",
    "                        matriculas.descricao.isin(['CANCELADO', 'APROVADO', 'APROVADO POR NOTA',\n",
    "                                                   'REPROVADO POR MÉDIA E POR FALTAS', 'REPROVADO', 'TRANCADO',\n",
    "                                                   'REPROVADO POR NOTA', 'REPROVADO POR NOTA E FALTA', \n",
    "                                                   'REPROVADO POR FALTAS'])\n",
    "                       ]\n",
    "\n",
    "#uniformizar o status\n",
    "matriculas.loc[matriculas.descricao.isin(['APROVADO', 'APROVADO POR NOTA']), 'descricao'] = 'APROVADO'\n",
    "matriculas.loc[matriculas.descricao.isin(['REPROVADO POR MÉDIA E POR FALTAS', 'REPROVADO', 'REPROVADO POR NOTA', 'REPROVADO POR NOTA E FALTA', 'REPROVADO POR FALTAS']), 'descricao'] = 'REPROVADO'\n",
    "matriculas.loc[matriculas.descricao.isin(['TRANCADO', 'CANCELADO']), 'descricao'] = 'TRANCADO/CANCELADO'\n",
    "\n",
    "#adicionar coluna booleana para indicar cada status (aprovado/reprovado/trancado ou cancelado)\n",
    "matriculas = pd.concat([matriculas, pd.get_dummies(matriculas.descricao)], axis=1)"
   ]
  },
  {
   "cell_type": "code",
   "execution_count": null,
   "metadata": {},
   "outputs": [],
   "source": [
    "matriculas.head()"
   ]
  },
  {
   "cell_type": "code",
   "execution_count": null,
   "metadata": {},
   "outputs": [],
   "source": [
    "#agrupar por turma e discente, para resgatar o registro da primeira unidade (é suficiente)\n",
    "#depois, agrupar por curso para verificar o indice para cada status, utilizando a media das colunas que indicam os status\n",
    "taxas_curso = matriculas.groupby(['id_turma', 'discente']).first().groupby('id_curso').mean()[['APROVADO','REPROVADO','TRANCADO/CANCELADO']].reset_index()\n",
    "\n",
    "#resgatar o nome do curso a partir do id\n",
    "taxas_curso['nome_curso'] = taxas_curso.id_curso.apply(lambda x: cursos.loc[cursos.id_curso==x, 'nome'].values[0])"
   ]
  },
  {
   "cell_type": "code",
   "execution_count": null,
   "metadata": {},
   "outputs": [],
   "source": [
    "print(\"Cursos com maiores índices de aprovação: \")\n",
    "taxas_curso.sort_values('APROVADO', ascending=False).head()"
   ]
  },
  {
   "cell_type": "code",
   "execution_count": null,
   "metadata": {},
   "outputs": [],
   "source": [
    "print(\"Cursos com maiores índices de reprovação: \")\n",
    "taxas_curso.sort_values('REPROVADO', ascending=False).head()"
   ]
  },
  {
   "cell_type": "code",
   "execution_count": null,
   "metadata": {},
   "outputs": [],
   "source": [
    "print(\"Cursos com maiores índices de trancamentos/cancelamentos: \")\n",
    "taxas_curso.sort_values('TRANCADO/CANCELADO', ascending=False).head()"
   ]
  },
  {
   "cell_type": "markdown",
   "metadata": {},
   "source": [
    "#### Dados socioeconômicos de discentes"
   ]
  },
  {
   "cell_type": "code",
   "execution_count": null,
   "metadata": {},
   "outputs": [],
   "source": [
    "#importar banco de dados socioeconomicos de discentes\n",
    "#http://dados.ufrn.br/dataset/dados-socio-economicos-de-discentes\n",
    "dados_socio = pd.read_csv('data/dados-socio-economicos-20171.csv', delimiter=';')\n",
    "dados_socio.head()"
   ]
  },
  {
   "cell_type": "code",
   "execution_count": null,
   "metadata": {},
   "outputs": [],
   "source": [
    "dados_socio.shape"
   ]
  },
  {
   "cell_type": "code",
   "execution_count": null,
   "metadata": {},
   "outputs": [],
   "source": [
    "dados_socio.renda.plot(kind='box', showfliers=False, title='Distribuição da renda per capita entre alunos com Cadastro Único na UFRN em 2017')"
   ]
  },
  {
   "cell_type": "code",
   "execution_count": null,
   "metadata": {},
   "outputs": [],
   "source": [
    "dados_socio = pd.concat([dados_socio, pd.get_dummies(dados_socio.escola_ens_medio)], axis=1)\n",
    "dados_socio[['possui_bolsa_pesquisa','possui_auxilio_alimentacao','possui_auxilio_transporte','possui_auxilio_residencia_moradia']] = dados_socio[['possui_bolsa_pesquisa','possui_auxilio_alimentacao','possui_auxilio_transporte','possui_auxilio_residencia_moradia']].applymap(lambda x: 1 if (x=='t') else 0)\n",
    "dados_socio.head()"
   ]
  },
  {
   "cell_type": "markdown",
   "metadata": {},
   "source": [
    "#### Dados complementares de discentes"
   ]
  },
  {
   "cell_type": "code",
   "execution_count": null,
   "metadata": {},
   "outputs": [],
   "source": [
    "#importar banco de dados complementares de discentes\n",
    "#http://dados.ufrn.br/dataset/dados-socio-economicos-de-discentes\n",
    "dados_comp = pd.read_csv('data/dados-pessoais-discentes', delimiter=';')\n",
    "dados_comp.head()"
   ]
  },
  {
   "cell_type": "code",
   "execution_count": null,
   "metadata": {},
   "outputs": [],
   "source": [
    "#agrupar por turma e discente, para resgatar o registro da primeira unidade (é suficiente)\n",
    "\n",
    "#adicionar coluna booleana para indicar cada sexo\n",
    "dados_comp = pd.concat([dados_comp, pd.get_dummies(dados_comp.sexo)], axis=1)\n",
    "\n",
    "#depois, agrupar por sexo para verificar o indice de ingressantes em cada um\n",
    "taxas_sexo = dados_comp.groupby('ano_ingresso').mean()[['M','F']].reset_index()"
   ]
  },
  {
   "cell_type": "code",
   "execution_count": null,
   "metadata": {},
   "outputs": [],
   "source": [
    "ax1 = taxas_sexo.plot(x='ano_ingresso', y='M', xlim=[1970, 2018], color='r', title='Percentual de ingressantes na UFRN por sexo')\n",
    "taxas_sexo.plot(x='ano_ingresso', y='F', xlim=[1970, 2018], color='b', ax=ax1)"
   ]
  },
  {
   "cell_type": "code",
   "execution_count": null,
   "metadata": {},
   "outputs": [],
   "source": [
    "taxas_sexo.tail()"
   ]
  },
  {
   "cell_type": "code",
   "execution_count": null,
   "metadata": {},
   "outputs": [],
   "source": []
  }
 ],
 "metadata": {
  "kernelspec": {
   "display_name": "Python 3",
   "language": "python",
   "name": "python3"
  },
  "language_info": {
   "codemirror_mode": {
    "name": "ipython",
    "version": 3
   },
   "file_extension": ".py",
   "mimetype": "text/x-python",
   "name": "python",
   "nbconvert_exporter": "python",
   "pygments_lexer": "ipython3",
   "version": "3.6.4"
  }
 },
 "nbformat": 4,
 "nbformat_minor": 2
}
